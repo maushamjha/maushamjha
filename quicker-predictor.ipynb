{
 "cells": [
  {
   "cell_type": "code",
   "execution_count": 1,
   "id": "0d8b6d49",
   "metadata": {
    "_cell_guid": "b1076dfc-b9ad-4769-8c92-a6c4dae69d19",
    "_uuid": "8f2839f25d086af736a60e9eeb907d3b93b6e0e5",
    "execution": {
     "iopub.execute_input": "2022-07-22T08:08:22.459355Z",
     "iopub.status.busy": "2022-07-22T08:08:22.458740Z",
     "iopub.status.idle": "2022-07-22T08:08:23.624418Z",
     "shell.execute_reply": "2022-07-22T08:08:23.623333Z"
    },
    "papermill": {
     "duration": 1.183325,
     "end_time": "2022-07-22T08:08:23.626713",
     "exception": false,
     "start_time": "2022-07-22T08:08:22.443388",
     "status": "completed"
    },
    "tags": []
   },
   "outputs": [],
   "source": [
    "import pandas as pd\n",
    "import numpy as np\n",
    "import matplotlib.pyplot as plt\n",
    "import seaborn as sns"
   ]
  },
  {
   "cell_type": "code",
   "execution_count": 2,
   "id": "1794529b",
   "metadata": {
    "execution": {
     "iopub.execute_input": "2022-07-22T08:08:23.645001Z",
     "iopub.status.busy": "2022-07-22T08:08:23.644068Z",
     "iopub.status.idle": "2022-07-22T08:08:23.668169Z",
     "shell.execute_reply": "2022-07-22T08:08:23.666616Z"
    },
    "papermill": {
     "duration": 0.035809,
     "end_time": "2022-07-22T08:08:23.670780",
     "exception": false,
     "start_time": "2022-07-22T08:08:23.634971",
     "status": "completed"
    },
    "tags": []
   },
   "outputs": [],
   "source": [
    "car=pd.read_csv('../input/quikr-cars-scraped/quikr_car - quikr_car.csv')"
   ]
  },
  {
   "cell_type": "code",
   "execution_count": 3,
   "id": "17bb1a05",
   "metadata": {
    "execution": {
     "iopub.execute_input": "2022-07-22T08:08:23.699591Z",
     "iopub.status.busy": "2022-07-22T08:08:23.698876Z",
     "iopub.status.idle": "2022-07-22T08:08:23.720223Z",
     "shell.execute_reply": "2022-07-22T08:08:23.719046Z"
    },
    "papermill": {
     "duration": 0.038643,
     "end_time": "2022-07-22T08:08:23.722983",
     "exception": false,
     "start_time": "2022-07-22T08:08:23.684340",
     "status": "completed"
    },
    "tags": []
   },
   "outputs": [
    {
     "data": {
      "text/html": [
       "<div>\n",
       "<style scoped>\n",
       "    .dataframe tbody tr th:only-of-type {\n",
       "        vertical-align: middle;\n",
       "    }\n",
       "\n",
       "    .dataframe tbody tr th {\n",
       "        vertical-align: top;\n",
       "    }\n",
       "\n",
       "    .dataframe thead th {\n",
       "        text-align: right;\n",
       "    }\n",
       "</style>\n",
       "<table border=\"1\" class=\"dataframe\">\n",
       "  <thead>\n",
       "    <tr style=\"text-align: right;\">\n",
       "      <th></th>\n",
       "      <th>name</th>\n",
       "      <th>company</th>\n",
       "      <th>year</th>\n",
       "      <th>Price</th>\n",
       "      <th>kms_driven</th>\n",
       "      <th>fuel_type</th>\n",
       "    </tr>\n",
       "  </thead>\n",
       "  <tbody>\n",
       "    <tr>\n",
       "      <th>0</th>\n",
       "      <td>Hyundai Santro Xing XO eRLX Euro III</td>\n",
       "      <td>Hyundai</td>\n",
       "      <td>2007</td>\n",
       "      <td>80,000</td>\n",
       "      <td>45,000 kms</td>\n",
       "      <td>Petrol</td>\n",
       "    </tr>\n",
       "    <tr>\n",
       "      <th>1</th>\n",
       "      <td>Mahindra Jeep CL550 MDI</td>\n",
       "      <td>Mahindra</td>\n",
       "      <td>2006</td>\n",
       "      <td>4,25,000</td>\n",
       "      <td>40 kms</td>\n",
       "      <td>Diesel</td>\n",
       "    </tr>\n",
       "  </tbody>\n",
       "</table>\n",
       "</div>"
      ],
      "text/plain": [
       "                                   name   company  year     Price  kms_driven  \\\n",
       "0  Hyundai Santro Xing XO eRLX Euro III   Hyundai  2007    80,000  45,000 kms   \n",
       "1               Mahindra Jeep CL550 MDI  Mahindra  2006  4,25,000      40 kms   \n",
       "\n",
       "  fuel_type  \n",
       "0    Petrol  \n",
       "1    Diesel  "
      ]
     },
     "execution_count": 3,
     "metadata": {},
     "output_type": "execute_result"
    }
   ],
   "source": [
    "car.head(2)"
   ]
  },
  {
   "cell_type": "code",
   "execution_count": 4,
   "id": "af7aa808",
   "metadata": {
    "execution": {
     "iopub.execute_input": "2022-07-22T08:08:23.751332Z",
     "iopub.status.busy": "2022-07-22T08:08:23.750942Z",
     "iopub.status.idle": "2022-07-22T08:08:23.757161Z",
     "shell.execute_reply": "2022-07-22T08:08:23.756324Z"
    },
    "papermill": {
     "duration": 0.023609,
     "end_time": "2022-07-22T08:08:23.759942",
     "exception": false,
     "start_time": "2022-07-22T08:08:23.736333",
     "status": "completed"
    },
    "tags": []
   },
   "outputs": [
    {
     "data": {
      "text/plain": [
       "(892, 6)"
      ]
     },
     "execution_count": 4,
     "metadata": {},
     "output_type": "execute_result"
    }
   ],
   "source": [
    "car.shape"
   ]
  },
  {
   "cell_type": "code",
   "execution_count": 5,
   "id": "f77effdb",
   "metadata": {
    "execution": {
     "iopub.execute_input": "2022-07-22T08:08:23.789498Z",
     "iopub.status.busy": "2022-07-22T08:08:23.789072Z",
     "iopub.status.idle": "2022-07-22T08:08:23.815190Z",
     "shell.execute_reply": "2022-07-22T08:08:23.813310Z"
    },
    "papermill": {
     "duration": 0.043247,
     "end_time": "2022-07-22T08:08:23.817809",
     "exception": false,
     "start_time": "2022-07-22T08:08:23.774562",
     "status": "completed"
    },
    "tags": []
   },
   "outputs": [
    {
     "name": "stdout",
     "output_type": "stream",
     "text": [
      "<class 'pandas.core.frame.DataFrame'>\n",
      "RangeIndex: 892 entries, 0 to 891\n",
      "Data columns (total 6 columns):\n",
      " #   Column      Non-Null Count  Dtype \n",
      "---  ------      --------------  ----- \n",
      " 0   name        892 non-null    object\n",
      " 1   company     892 non-null    object\n",
      " 2   year        892 non-null    object\n",
      " 3   Price       892 non-null    object\n",
      " 4   kms_driven  840 non-null    object\n",
      " 5   fuel_type   837 non-null    object\n",
      "dtypes: object(6)\n",
      "memory usage: 41.9+ KB\n"
     ]
    }
   ],
   "source": [
    "car.info()"
   ]
  },
  {
   "cell_type": "code",
   "execution_count": 6,
   "id": "c390db1b",
   "metadata": {
    "execution": {
     "iopub.execute_input": "2022-07-22T08:08:23.847986Z",
     "iopub.status.busy": "2022-07-22T08:08:23.847123Z",
     "iopub.status.idle": "2022-07-22T08:08:23.856996Z",
     "shell.execute_reply": "2022-07-22T08:08:23.855980Z"
    },
    "papermill": {
     "duration": 0.027923,
     "end_time": "2022-07-22T08:08:23.859134",
     "exception": false,
     "start_time": "2022-07-22T08:08:23.831211",
     "status": "completed"
    },
    "tags": []
   },
   "outputs": [
    {
     "data": {
      "text/plain": [
       "name           0\n",
       "company        0\n",
       "year           0\n",
       "Price          0\n",
       "kms_driven    52\n",
       "fuel_type     55\n",
       "dtype: int64"
      ]
     },
     "execution_count": 6,
     "metadata": {},
     "output_type": "execute_result"
    }
   ],
   "source": [
    "car.isnull().sum()"
   ]
  },
  {
   "cell_type": "code",
   "execution_count": 7,
   "id": "825a1a8d",
   "metadata": {
    "execution": {
     "iopub.execute_input": "2022-07-22T08:08:23.891170Z",
     "iopub.status.busy": "2022-07-22T08:08:23.889903Z",
     "iopub.status.idle": "2022-07-22T08:08:23.898294Z",
     "shell.execute_reply": "2022-07-22T08:08:23.896862Z"
    },
    "papermill": {
     "duration": 0.026885,
     "end_time": "2022-07-22T08:08:23.900480",
     "exception": false,
     "start_time": "2022-07-22T08:08:23.873595",
     "status": "completed"
    },
    "tags": []
   },
   "outputs": [
    {
     "data": {
      "text/plain": [
       "array(['2007', '2006', '2018', '2014', '2015', '2012', '2013', '2016',\n",
       "       '2010', '2017', '2008', '2011', '2019', '2009', '2005', '2000',\n",
       "       '...', '150k', 'TOUR', '2003', 'r 15', '2004', 'Zest', '/-Rs',\n",
       "       'sale', '1995', 'ara)', '2002', 'SELL', '2001', 'tion', 'odel',\n",
       "       '2 bs', 'arry', 'Eon', 'o...', 'ture', 'emi', 'car', 'able', 'no.',\n",
       "       'd...', 'SALE', 'digo', 'sell', 'd Ex', 'n...', 'e...', 'D...',\n",
       "       ', Ac', 'go .', 'k...', 'o c4', 'zire', 'cent', 'Sumo', 'cab',\n",
       "       't xe', 'EV2', 'r...', 'zest'], dtype=object)"
      ]
     },
     "execution_count": 7,
     "metadata": {},
     "output_type": "execute_result"
    }
   ],
   "source": [
    "car['year'].unique()"
   ]
  },
  {
   "cell_type": "code",
   "execution_count": 8,
   "id": "2d50c09e",
   "metadata": {
    "execution": {
     "iopub.execute_input": "2022-07-22T08:08:23.929491Z",
     "iopub.status.busy": "2022-07-22T08:08:23.928841Z",
     "iopub.status.idle": "2022-07-22T08:08:23.938376Z",
     "shell.execute_reply": "2022-07-22T08:08:23.937132Z"
    },
    "papermill": {
     "duration": 0.02729,
     "end_time": "2022-07-22T08:08:23.941105",
     "exception": false,
     "start_time": "2022-07-22T08:08:23.913815",
     "status": "completed"
    },
    "tags": []
   },
   "outputs": [
    {
     "data": {
      "text/plain": [
       "array(['80,000', '4,25,000', 'Ask For Price', '3,25,000', '5,75,000',\n",
       "       '1,75,000', '1,90,000', '8,30,000', '2,50,000', '1,82,000',\n",
       "       '3,15,000', '4,15,000', '3,20,000', '10,00,000', '5,00,000',\n",
       "       '3,50,000', '1,60,000', '3,10,000', '75,000', '1,00,000',\n",
       "       '2,90,000', '95,000', '1,80,000', '3,85,000', '1,05,000',\n",
       "       '6,50,000', '6,89,999', '4,48,000', '5,49,000', '5,01,000',\n",
       "       '4,89,999', '2,80,000', '3,49,999', '2,84,999', '3,45,000',\n",
       "       '4,99,999', '2,35,000', '2,49,999', '14,75,000', '3,95,000',\n",
       "       '2,20,000', '1,70,000', '85,000', '2,00,000', '5,70,000',\n",
       "       '1,10,000', '4,48,999', '18,91,111', '1,59,500', '3,44,999',\n",
       "       '4,49,999', '8,65,000', '6,99,000', '3,75,000', '2,24,999',\n",
       "       '12,00,000', '1,95,000', '3,51,000', '2,40,000', '90,000',\n",
       "       '1,55,000', '6,00,000', '1,89,500', '2,10,000', '3,90,000',\n",
       "       '1,35,000', '16,00,000', '7,01,000', '2,65,000', '5,25,000',\n",
       "       '3,72,000', '6,35,000', '5,50,000', '4,85,000', '3,29,500',\n",
       "       '2,51,111', '5,69,999', '69,999', '2,99,999', '3,99,999',\n",
       "       '4,50,000', '2,70,000', '1,58,400', '1,79,000', '1,25,000',\n",
       "       '2,99,000', '1,50,000', '2,75,000', '2,85,000', '3,40,000',\n",
       "       '70,000', '2,89,999', '8,49,999', '7,49,999', '2,74,999',\n",
       "       '9,84,999', '5,99,999', '2,44,999', '4,74,999', '2,45,000',\n",
       "       '1,69,500', '3,70,000', '1,68,000', '1,45,000', '98,500',\n",
       "       '2,09,000', '1,85,000', '9,00,000', '6,99,999', '1,99,999',\n",
       "       '5,44,999', '1,99,000', '5,40,000', '49,000', '7,00,000', '55,000',\n",
       "       '8,95,000', '3,55,000', '5,65,000', '3,65,000', '40,000',\n",
       "       '4,00,000', '3,30,000', '5,80,000', '3,79,000', '2,19,000',\n",
       "       '5,19,000', '7,30,000', '20,00,000', '21,00,000', '14,00,000',\n",
       "       '3,11,000', '8,55,000', '5,35,000', '1,78,000', '3,00,000',\n",
       "       '2,55,000', '5,49,999', '3,80,000', '57,000', '4,10,000',\n",
       "       '2,25,000', '1,20,000', '59,000', '5,99,000', '6,75,000', '72,500',\n",
       "       '6,10,000', '2,30,000', '5,20,000', '5,24,999', '4,24,999',\n",
       "       '6,44,999', '5,84,999', '7,99,999', '4,44,999', '6,49,999',\n",
       "       '9,44,999', '5,74,999', '3,74,999', '1,30,000', '4,01,000',\n",
       "       '13,50,000', '1,74,999', '2,39,999', '99,999', '3,24,999',\n",
       "       '10,74,999', '11,30,000', '1,49,000', '7,70,000', '30,000',\n",
       "       '3,35,000', '3,99,000', '65,000', '1,69,999', '1,65,000',\n",
       "       '5,60,000', '9,50,000', '7,15,000', '45,000', '9,40,000',\n",
       "       '1,55,555', '15,00,000', '4,95,000', '8,00,000', '12,99,000',\n",
       "       '5,30,000', '14,99,000', '32,000', '4,05,000', '7,60,000',\n",
       "       '7,50,000', '4,19,000', '1,40,000', '15,40,000', '1,23,000',\n",
       "       '4,98,000', '4,80,000', '4,88,000', '15,25,000', '5,48,900',\n",
       "       '7,25,000', '99,000', '52,000', '28,00,000', '4,99,000',\n",
       "       '3,81,000', '2,78,000', '6,90,000', '2,60,000', '90,001',\n",
       "       '1,15,000', '15,99,000', '1,59,000', '51,999', '2,15,000',\n",
       "       '35,000', '11,50,000', '2,69,000', '60,000', '4,30,000',\n",
       "       '85,00,003', '4,01,919', '4,90,000', '4,24,000', '2,05,000',\n",
       "       '5,49,900', '3,71,500', '4,35,000', '1,89,700', '3,89,700',\n",
       "       '3,60,000', '2,95,000', '1,14,990', '10,65,000', '4,70,000',\n",
       "       '48,000', '1,88,000', '4,65,000', '1,79,999', '21,90,000',\n",
       "       '23,90,000', '10,75,000', '4,75,000', '10,25,000', '6,15,000',\n",
       "       '19,00,000', '14,90,000', '15,10,000', '18,50,000', '7,90,000',\n",
       "       '17,25,000', '12,25,000', '68,000', '9,70,000', '31,00,000',\n",
       "       '8,99,000', '88,000', '53,000', '5,68,500', '71,000', '5,90,000',\n",
       "       '7,95,000', '42,000', '1,89,000', '1,62,000', '35,999',\n",
       "       '29,00,000', '39,999', '50,500', '5,10,000', '8,60,000',\n",
       "       '5,00,001'], dtype=object)"
      ]
     },
     "execution_count": 8,
     "metadata": {},
     "output_type": "execute_result"
    }
   ],
   "source": [
    "car['Price'].unique()"
   ]
  },
  {
   "cell_type": "code",
   "execution_count": 9,
   "id": "f2d7cf47",
   "metadata": {
    "execution": {
     "iopub.execute_input": "2022-07-22T08:08:23.970790Z",
     "iopub.status.busy": "2022-07-22T08:08:23.970451Z",
     "iopub.status.idle": "2022-07-22T08:08:23.979682Z",
     "shell.execute_reply": "2022-07-22T08:08:23.978310Z"
    },
    "papermill": {
     "duration": 0.026173,
     "end_time": "2022-07-22T08:08:23.981765",
     "exception": false,
     "start_time": "2022-07-22T08:08:23.955592",
     "status": "completed"
    },
    "tags": []
   },
   "outputs": [
    {
     "data": {
      "text/plain": [
       "array(['45,000 kms', '40 kms', '22,000 kms', '28,000 kms', '36,000 kms',\n",
       "       '59,000 kms', '41,000 kms', '25,000 kms', '24,530 kms',\n",
       "       '60,000 kms', '30,000 kms', '32,000 kms', '48,660 kms',\n",
       "       '4,000 kms', '16,934 kms', '43,000 kms', '35,550 kms',\n",
       "       '39,522 kms', '39,000 kms', '55,000 kms', '72,000 kms',\n",
       "       '15,975 kms', '70,000 kms', '23,452 kms', '35,522 kms',\n",
       "       '48,508 kms', '15,487 kms', '82,000 kms', '20,000 kms',\n",
       "       '68,000 kms', '38,000 kms', '27,000 kms', '33,000 kms',\n",
       "       '46,000 kms', '16,000 kms', '47,000 kms', '35,000 kms',\n",
       "       '30,874 kms', '15,000 kms', '29,685 kms', '1,30,000 kms',\n",
       "       '19,000 kms', nan, '54,000 kms', '13,000 kms', '38,200 kms',\n",
       "       '50,000 kms', '13,500 kms', '3,600 kms', '45,863 kms',\n",
       "       '60,500 kms', '12,500 kms', '18,000 kms', '13,349 kms',\n",
       "       '29,000 kms', '44,000 kms', '42,000 kms', '14,000 kms',\n",
       "       '49,000 kms', '36,200 kms', '51,000 kms', '1,04,000 kms',\n",
       "       '33,333 kms', '33,600 kms', '5,600 kms', '7,500 kms', '26,000 kms',\n",
       "       '24,330 kms', '65,480 kms', '28,028 kms', '2,00,000 kms',\n",
       "       '99,000 kms', '2,800 kms', '21,000 kms', '11,000 kms',\n",
       "       '66,000 kms', '3,000 kms', '7,000 kms', '38,500 kms', '37,200 kms',\n",
       "       '43,200 kms', '24,800 kms', '45,872 kms', '40,000 kms',\n",
       "       '11,400 kms', '97,200 kms', '52,000 kms', '31,000 kms',\n",
       "       '1,75,430 kms', '37,000 kms', '65,000 kms', '3,350 kms',\n",
       "       '75,000 kms', '62,000 kms', '73,000 kms', '2,200 kms',\n",
       "       '54,870 kms', '34,580 kms', '97,000 kms', '60 kms', '80,200 kms',\n",
       "       '3,200 kms', '0,000 kms', '5,000 kms', '588 kms', '71,200 kms',\n",
       "       '1,75,400 kms', '9,300 kms', '56,758 kms', '10,000 kms',\n",
       "       '56,450 kms', '56,000 kms', '32,700 kms', '9,000 kms', '73 kms',\n",
       "       '1,60,000 kms', '84,000 kms', '58,559 kms', '57,000 kms',\n",
       "       '1,70,000 kms', '80,000 kms', '6,821 kms', '23,000 kms',\n",
       "       '34,000 kms', '1,800 kms', '4,00,000 kms', '48,000 kms',\n",
       "       '90,000 kms', '12,000 kms', '69,900 kms', '1,66,000 kms',\n",
       "       '122 kms', '0 kms', '24,000 kms', '36,469 kms', '7,800 kms',\n",
       "       '24,695 kms', '15,141 kms', '59,910 kms', '1,00,000 kms',\n",
       "       '4,500 kms', '1,29,000 kms', '300 kms', '1,31,000 kms',\n",
       "       '1,11,111 kms', '59,466 kms', '25,500 kms', '44,005 kms',\n",
       "       '2,110 kms', '43,222 kms', '1,00,200 kms', '65 kms',\n",
       "       '1,40,000 kms', '1,03,553 kms', '58,000 kms', '1,20,000 kms',\n",
       "       '49,800 kms', '100 kms', '81,876 kms', '6,020 kms', '55,700 kms',\n",
       "       '18,500 kms', '1,80,000 kms', '53,000 kms', '35,500 kms',\n",
       "       '22,134 kms', '1,000 kms', '8,500 kms', '87,000 kms', '6,000 kms',\n",
       "       '15,574 kms', '8,000 kms', '55,800 kms', '56,400 kms',\n",
       "       '72,160 kms', '11,500 kms', '1,33,000 kms', '2,000 kms',\n",
       "       '88,000 kms', '65,422 kms', '1,17,000 kms', '1,50,000 kms',\n",
       "       '10,750 kms', '6,800 kms', '5 kms', '9,800 kms', '57,923 kms',\n",
       "       '30,201 kms', '6,200 kms', '37,518 kms', '24,652 kms', '383 kms',\n",
       "       '95,000 kms', '3,528 kms', '52,500 kms', '47,900 kms',\n",
       "       '52,800 kms', '1,95,000 kms', '48,008 kms', '48,247 kms',\n",
       "       '9,400 kms', '64,000 kms', '2,137 kms', '10,544 kms', '49,500 kms',\n",
       "       '1,47,000 kms', '90,001 kms', '48,006 kms', '74,000 kms',\n",
       "       '85,000 kms', '29,500 kms', '39,700 kms', '67,000 kms',\n",
       "       '19,336 kms', '60,105 kms', '45,933 kms', '1,02,563 kms',\n",
       "       '28,600 kms', '41,800 kms', '1,16,000 kms', '42,590 kms',\n",
       "       '7,400 kms', '54,500 kms', '76,000 kms', '00 kms', '11,523 kms',\n",
       "       '38,600 kms', '95,500 kms', '37,458 kms', '85,960 kms',\n",
       "       '12,516 kms', '30,600 kms', '2,550 kms', '62,500 kms',\n",
       "       '69,000 kms', '28,400 kms', '68,485 kms', '3,500 kms',\n",
       "       '85,455 kms', '63,000 kms', '1,600 kms', '77,000 kms',\n",
       "       '26,500 kms', '2,875 kms', '13,900 kms', '1,500 kms', '2,450 kms',\n",
       "       '1,625 kms', '33,400 kms', '60,123 kms', '38,900 kms',\n",
       "       '1,37,495 kms', '91,200 kms', '1,46,000 kms', '1,00,800 kms',\n",
       "       '2,100 kms', '2,500 kms', '1,32,000 kms', 'Petrol'], dtype=object)"
      ]
     },
     "execution_count": 9,
     "metadata": {},
     "output_type": "execute_result"
    }
   ],
   "source": [
    "car['kms_driven'].unique()"
   ]
  },
  {
   "cell_type": "code",
   "execution_count": 10,
   "id": "dd4cb10e",
   "metadata": {
    "execution": {
     "iopub.execute_input": "2022-07-22T08:08:24.011690Z",
     "iopub.status.busy": "2022-07-22T08:08:24.011125Z",
     "iopub.status.idle": "2022-07-22T08:08:24.014811Z",
     "shell.execute_reply": "2022-07-22T08:08:24.014101Z"
    },
    "papermill": {
     "duration": 0.021207,
     "end_time": "2022-07-22T08:08:24.016860",
     "exception": false,
     "start_time": "2022-07-22T08:08:23.995653",
     "status": "completed"
    },
    "tags": []
   },
   "outputs": [],
   "source": [
    "#kms_driven,fuel_type has nan value\n",
    "#year,price,kms_driven is object type convert it into int\n",
    "#year contains string,price con tains string\n",
    "#short name"
   ]
  },
  {
   "cell_type": "code",
   "execution_count": 11,
   "id": "9876ed39",
   "metadata": {
    "execution": {
     "iopub.execute_input": "2022-07-22T08:08:24.046468Z",
     "iopub.status.busy": "2022-07-22T08:08:24.045867Z",
     "iopub.status.idle": "2022-07-22T08:08:24.052320Z",
     "shell.execute_reply": "2022-07-22T08:08:24.051022Z"
    },
    "papermill": {
     "duration": 0.024076,
     "end_time": "2022-07-22T08:08:24.054701",
     "exception": false,
     "start_time": "2022-07-22T08:08:24.030625",
     "status": "completed"
    },
    "tags": []
   },
   "outputs": [],
   "source": [
    "car=car[car['year'].str.isnumeric()]"
   ]
  },
  {
   "cell_type": "code",
   "execution_count": 12,
   "id": "e04147b4",
   "metadata": {
    "execution": {
     "iopub.execute_input": "2022-07-22T08:08:24.084933Z",
     "iopub.status.busy": "2022-07-22T08:08:24.084620Z",
     "iopub.status.idle": "2022-07-22T08:08:24.089919Z",
     "shell.execute_reply": "2022-07-22T08:08:24.089131Z"
    },
    "papermill": {
     "duration": 0.023074,
     "end_time": "2022-07-22T08:08:24.092112",
     "exception": false,
     "start_time": "2022-07-22T08:08:24.069038",
     "status": "completed"
    },
    "tags": []
   },
   "outputs": [],
   "source": [
    "car['year']=car['year'].astype(int)"
   ]
  },
  {
   "cell_type": "code",
   "execution_count": 13,
   "id": "3e24966f",
   "metadata": {
    "execution": {
     "iopub.execute_input": "2022-07-22T08:08:24.122932Z",
     "iopub.status.busy": "2022-07-22T08:08:24.122457Z",
     "iopub.status.idle": "2022-07-22T08:08:24.130177Z",
     "shell.execute_reply": "2022-07-22T08:08:24.128982Z"
    },
    "papermill": {
     "duration": 0.025831,
     "end_time": "2022-07-22T08:08:24.132664",
     "exception": false,
     "start_time": "2022-07-22T08:08:24.106833",
     "status": "completed"
    },
    "tags": []
   },
   "outputs": [],
   "source": [
    "car=car[car['Price']!=\"Ask For Price\"]"
   ]
  },
  {
   "cell_type": "code",
   "execution_count": 14,
   "id": "f6fb77d7",
   "metadata": {
    "execution": {
     "iopub.execute_input": "2022-07-22T08:08:24.162997Z",
     "iopub.status.busy": "2022-07-22T08:08:24.162620Z",
     "iopub.status.idle": "2022-07-22T08:08:24.170393Z",
     "shell.execute_reply": "2022-07-22T08:08:24.169598Z"
    },
    "papermill": {
     "duration": 0.02586,
     "end_time": "2022-07-22T08:08:24.172478",
     "exception": false,
     "start_time": "2022-07-22T08:08:24.146618",
     "status": "completed"
    },
    "tags": []
   },
   "outputs": [],
   "source": [
    "car['Price']=car['Price'].str.replace(',','').astype(int)"
   ]
  },
  {
   "cell_type": "code",
   "execution_count": 15,
   "id": "2bde81e4",
   "metadata": {
    "execution": {
     "iopub.execute_input": "2022-07-22T08:08:24.202071Z",
     "iopub.status.busy": "2022-07-22T08:08:24.201470Z",
     "iopub.status.idle": "2022-07-22T08:08:24.209480Z",
     "shell.execute_reply": "2022-07-22T08:08:24.208753Z"
    },
    "papermill": {
     "duration": 0.025286,
     "end_time": "2022-07-22T08:08:24.211624",
     "exception": false,
     "start_time": "2022-07-22T08:08:24.186338",
     "status": "completed"
    },
    "tags": []
   },
   "outputs": [],
   "source": [
    "car['kms_driven']=car['kms_driven'].str.split(' ').str[0].str.replace(\",\",\"\")"
   ]
  },
  {
   "cell_type": "code",
   "execution_count": 16,
   "id": "c4c0b880",
   "metadata": {
    "execution": {
     "iopub.execute_input": "2022-07-22T08:08:24.240825Z",
     "iopub.status.busy": "2022-07-22T08:08:24.240236Z",
     "iopub.status.idle": "2022-07-22T08:08:24.246010Z",
     "shell.execute_reply": "2022-07-22T08:08:24.245257Z"
    },
    "papermill": {
     "duration": 0.022794,
     "end_time": "2022-07-22T08:08:24.248143",
     "exception": false,
     "start_time": "2022-07-22T08:08:24.225349",
     "status": "completed"
    },
    "tags": []
   },
   "outputs": [],
   "source": [
    "car=car[car['kms_driven'].str.isnumeric()]"
   ]
  },
  {
   "cell_type": "code",
   "execution_count": 17,
   "id": "e5c9e676",
   "metadata": {
    "execution": {
     "iopub.execute_input": "2022-07-22T08:08:24.277611Z",
     "iopub.status.busy": "2022-07-22T08:08:24.277057Z",
     "iopub.status.idle": "2022-07-22T08:08:24.282614Z",
     "shell.execute_reply": "2022-07-22T08:08:24.281841Z"
    },
    "papermill": {
     "duration": 0.022791,
     "end_time": "2022-07-22T08:08:24.284795",
     "exception": false,
     "start_time": "2022-07-22T08:08:24.262004",
     "status": "completed"
    },
    "tags": []
   },
   "outputs": [],
   "source": [
    "car['kms_driven']=car['kms_driven'].astype(int)"
   ]
  },
  {
   "cell_type": "code",
   "execution_count": 18,
   "id": "f6b8f791",
   "metadata": {
    "execution": {
     "iopub.execute_input": "2022-07-22T08:08:24.314330Z",
     "iopub.status.busy": "2022-07-22T08:08:24.313154Z",
     "iopub.status.idle": "2022-07-22T08:08:24.322597Z",
     "shell.execute_reply": "2022-07-22T08:08:24.321273Z"
    },
    "papermill": {
     "duration": 0.026288,
     "end_time": "2022-07-22T08:08:24.324719",
     "exception": false,
     "start_time": "2022-07-22T08:08:24.298431",
     "status": "completed"
    },
    "tags": []
   },
   "outputs": [
    {
     "data": {
      "text/plain": [
       "name          0\n",
       "company       0\n",
       "year          0\n",
       "Price         0\n",
       "kms_driven    0\n",
       "fuel_type     1\n",
       "dtype: int64"
      ]
     },
     "execution_count": 18,
     "metadata": {},
     "output_type": "execute_result"
    }
   ],
   "source": [
    "car.isnull().sum()"
   ]
  },
  {
   "cell_type": "code",
   "execution_count": 19,
   "id": "34a72abe",
   "metadata": {
    "execution": {
     "iopub.execute_input": "2022-07-22T08:08:24.356169Z",
     "iopub.status.busy": "2022-07-22T08:08:24.354340Z",
     "iopub.status.idle": "2022-07-22T08:08:24.362412Z",
     "shell.execute_reply": "2022-07-22T08:08:24.361652Z"
    },
    "papermill": {
     "duration": 0.025639,
     "end_time": "2022-07-22T08:08:24.364733",
     "exception": false,
     "start_time": "2022-07-22T08:08:24.339094",
     "status": "completed"
    },
    "tags": []
   },
   "outputs": [],
   "source": [
    "car.dropna(inplace=True)"
   ]
  },
  {
   "cell_type": "code",
   "execution_count": 20,
   "id": "f051f93e",
   "metadata": {
    "execution": {
     "iopub.execute_input": "2022-07-22T08:08:24.395202Z",
     "iopub.status.busy": "2022-07-22T08:08:24.394629Z",
     "iopub.status.idle": "2022-07-22T08:08:24.402946Z",
     "shell.execute_reply": "2022-07-22T08:08:24.402054Z"
    },
    "papermill": {
     "duration": 0.026362,
     "end_time": "2022-07-22T08:08:24.404919",
     "exception": false,
     "start_time": "2022-07-22T08:08:24.378557",
     "status": "completed"
    },
    "tags": []
   },
   "outputs": [
    {
     "data": {
      "text/plain": [
       "name          0\n",
       "company       0\n",
       "year          0\n",
       "Price         0\n",
       "kms_driven    0\n",
       "fuel_type     0\n",
       "dtype: int64"
      ]
     },
     "execution_count": 20,
     "metadata": {},
     "output_type": "execute_result"
    }
   ],
   "source": [
    "car.isnull().sum()"
   ]
  },
  {
   "cell_type": "code",
   "execution_count": 21,
   "id": "9a91fdeb",
   "metadata": {
    "execution": {
     "iopub.execute_input": "2022-07-22T08:08:24.434445Z",
     "iopub.status.busy": "2022-07-22T08:08:24.434111Z",
     "iopub.status.idle": "2022-07-22T08:08:24.445212Z",
     "shell.execute_reply": "2022-07-22T08:08:24.443965Z"
    },
    "papermill": {
     "duration": 0.028981,
     "end_time": "2022-07-22T08:08:24.447745",
     "exception": false,
     "start_time": "2022-07-22T08:08:24.418764",
     "status": "completed"
    },
    "tags": []
   },
   "outputs": [],
   "source": [
    "car['name']=car['name'].str.split().str.slice(0,3).str.join(' ')"
   ]
  },
  {
   "cell_type": "code",
   "execution_count": 22,
   "id": "88614318",
   "metadata": {
    "execution": {
     "iopub.execute_input": "2022-07-22T08:08:24.477959Z",
     "iopub.status.busy": "2022-07-22T08:08:24.477595Z",
     "iopub.status.idle": "2022-07-22T08:08:24.491494Z",
     "shell.execute_reply": "2022-07-22T08:08:24.490379Z"
    },
    "papermill": {
     "duration": 0.032464,
     "end_time": "2022-07-22T08:08:24.494221",
     "exception": false,
     "start_time": "2022-07-22T08:08:24.461757",
     "status": "completed"
    },
    "tags": []
   },
   "outputs": [
    {
     "data": {
      "text/html": [
       "<div>\n",
       "<style scoped>\n",
       "    .dataframe tbody tr th:only-of-type {\n",
       "        vertical-align: middle;\n",
       "    }\n",
       "\n",
       "    .dataframe tbody tr th {\n",
       "        vertical-align: top;\n",
       "    }\n",
       "\n",
       "    .dataframe thead th {\n",
       "        text-align: right;\n",
       "    }\n",
       "</style>\n",
       "<table border=\"1\" class=\"dataframe\">\n",
       "  <thead>\n",
       "    <tr style=\"text-align: right;\">\n",
       "      <th></th>\n",
       "      <th>name</th>\n",
       "      <th>company</th>\n",
       "      <th>year</th>\n",
       "      <th>Price</th>\n",
       "      <th>kms_driven</th>\n",
       "      <th>fuel_type</th>\n",
       "    </tr>\n",
       "  </thead>\n",
       "  <tbody>\n",
       "    <tr>\n",
       "      <th>0</th>\n",
       "      <td>Hyundai Santro Xing</td>\n",
       "      <td>Hyundai</td>\n",
       "      <td>2007</td>\n",
       "      <td>80000</td>\n",
       "      <td>45000</td>\n",
       "      <td>Petrol</td>\n",
       "    </tr>\n",
       "    <tr>\n",
       "      <th>1</th>\n",
       "      <td>Mahindra Jeep CL550</td>\n",
       "      <td>Mahindra</td>\n",
       "      <td>2006</td>\n",
       "      <td>425000</td>\n",
       "      <td>40</td>\n",
       "      <td>Diesel</td>\n",
       "    </tr>\n",
       "    <tr>\n",
       "      <th>3</th>\n",
       "      <td>Hyundai Grand i10</td>\n",
       "      <td>Hyundai</td>\n",
       "      <td>2014</td>\n",
       "      <td>325000</td>\n",
       "      <td>28000</td>\n",
       "      <td>Petrol</td>\n",
       "    </tr>\n",
       "    <tr>\n",
       "      <th>4</th>\n",
       "      <td>Ford EcoSport Titanium</td>\n",
       "      <td>Ford</td>\n",
       "      <td>2014</td>\n",
       "      <td>575000</td>\n",
       "      <td>36000</td>\n",
       "      <td>Diesel</td>\n",
       "    </tr>\n",
       "    <tr>\n",
       "      <th>6</th>\n",
       "      <td>Ford Figo</td>\n",
       "      <td>Ford</td>\n",
       "      <td>2012</td>\n",
       "      <td>175000</td>\n",
       "      <td>41000</td>\n",
       "      <td>Diesel</td>\n",
       "    </tr>\n",
       "  </tbody>\n",
       "</table>\n",
       "</div>"
      ],
      "text/plain": [
       "                     name   company  year   Price  kms_driven fuel_type\n",
       "0     Hyundai Santro Xing   Hyundai  2007   80000       45000    Petrol\n",
       "1     Mahindra Jeep CL550  Mahindra  2006  425000          40    Diesel\n",
       "3       Hyundai Grand i10   Hyundai  2014  325000       28000    Petrol\n",
       "4  Ford EcoSport Titanium      Ford  2014  575000       36000    Diesel\n",
       "6               Ford Figo      Ford  2012  175000       41000    Diesel"
      ]
     },
     "execution_count": 22,
     "metadata": {},
     "output_type": "execute_result"
    }
   ],
   "source": [
    "car.head()"
   ]
  },
  {
   "cell_type": "code",
   "execution_count": 23,
   "id": "d188ff0e",
   "metadata": {
    "execution": {
     "iopub.execute_input": "2022-07-22T08:08:24.525348Z",
     "iopub.status.busy": "2022-07-22T08:08:24.524999Z",
     "iopub.status.idle": "2022-07-22T08:08:24.530717Z",
     "shell.execute_reply": "2022-07-22T08:08:24.529924Z"
    },
    "papermill": {
     "duration": 0.024433,
     "end_time": "2022-07-22T08:08:24.533522",
     "exception": false,
     "start_time": "2022-07-22T08:08:24.509089",
     "status": "completed"
    },
    "tags": []
   },
   "outputs": [],
   "source": [
    "car=car.reset_index()"
   ]
  },
  {
   "cell_type": "code",
   "execution_count": 24,
   "id": "5d684f8e",
   "metadata": {
    "execution": {
     "iopub.execute_input": "2022-07-22T08:08:24.565411Z",
     "iopub.status.busy": "2022-07-22T08:08:24.563826Z",
     "iopub.status.idle": "2022-07-22T08:08:24.577585Z",
     "shell.execute_reply": "2022-07-22T08:08:24.575846Z"
    },
    "papermill": {
     "duration": 0.032239,
     "end_time": "2022-07-22T08:08:24.580520",
     "exception": false,
     "start_time": "2022-07-22T08:08:24.548281",
     "status": "completed"
    },
    "tags": []
   },
   "outputs": [
    {
     "name": "stdout",
     "output_type": "stream",
     "text": [
      "<class 'pandas.core.frame.DataFrame'>\n",
      "RangeIndex: 816 entries, 0 to 815\n",
      "Data columns (total 7 columns):\n",
      " #   Column      Non-Null Count  Dtype \n",
      "---  ------      --------------  ----- \n",
      " 0   index       816 non-null    int64 \n",
      " 1   name        816 non-null    object\n",
      " 2   company     816 non-null    object\n",
      " 3   year        816 non-null    int64 \n",
      " 4   Price       816 non-null    int64 \n",
      " 5   kms_driven  816 non-null    int64 \n",
      " 6   fuel_type   816 non-null    object\n",
      "dtypes: int64(4), object(3)\n",
      "memory usage: 44.8+ KB\n"
     ]
    }
   ],
   "source": [
    "car.info()"
   ]
  },
  {
   "cell_type": "code",
   "execution_count": 25,
   "id": "eef3c1a7",
   "metadata": {
    "execution": {
     "iopub.execute_input": "2022-07-22T08:08:24.611558Z",
     "iopub.status.busy": "2022-07-22T08:08:24.611211Z",
     "iopub.status.idle": "2022-07-22T08:08:24.636278Z",
     "shell.execute_reply": "2022-07-22T08:08:24.635279Z"
    },
    "papermill": {
     "duration": 0.043393,
     "end_time": "2022-07-22T08:08:24.638609",
     "exception": false,
     "start_time": "2022-07-22T08:08:24.595216",
     "status": "completed"
    },
    "tags": []
   },
   "outputs": [
    {
     "data": {
      "text/html": [
       "<div>\n",
       "<style scoped>\n",
       "    .dataframe tbody tr th:only-of-type {\n",
       "        vertical-align: middle;\n",
       "    }\n",
       "\n",
       "    .dataframe tbody tr th {\n",
       "        vertical-align: top;\n",
       "    }\n",
       "\n",
       "    .dataframe thead th {\n",
       "        text-align: right;\n",
       "    }\n",
       "</style>\n",
       "<table border=\"1\" class=\"dataframe\">\n",
       "  <thead>\n",
       "    <tr style=\"text-align: right;\">\n",
       "      <th></th>\n",
       "      <th>index</th>\n",
       "      <th>year</th>\n",
       "      <th>Price</th>\n",
       "      <th>kms_driven</th>\n",
       "    </tr>\n",
       "  </thead>\n",
       "  <tbody>\n",
       "    <tr>\n",
       "      <th>count</th>\n",
       "      <td>816.000000</td>\n",
       "      <td>816.000000</td>\n",
       "      <td>8.160000e+02</td>\n",
       "      <td>816.000000</td>\n",
       "    </tr>\n",
       "    <tr>\n",
       "      <th>mean</th>\n",
       "      <td>431.637255</td>\n",
       "      <td>2012.444853</td>\n",
       "      <td>4.117176e+05</td>\n",
       "      <td>46275.531863</td>\n",
       "    </tr>\n",
       "    <tr>\n",
       "      <th>std</th>\n",
       "      <td>254.197374</td>\n",
       "      <td>4.002992</td>\n",
       "      <td>4.751844e+05</td>\n",
       "      <td>34297.428044</td>\n",
       "    </tr>\n",
       "    <tr>\n",
       "      <th>min</th>\n",
       "      <td>0.000000</td>\n",
       "      <td>1995.000000</td>\n",
       "      <td>3.000000e+04</td>\n",
       "      <td>0.000000</td>\n",
       "    </tr>\n",
       "    <tr>\n",
       "      <th>25%</th>\n",
       "      <td>212.750000</td>\n",
       "      <td>2010.000000</td>\n",
       "      <td>1.750000e+05</td>\n",
       "      <td>27000.000000</td>\n",
       "    </tr>\n",
       "    <tr>\n",
       "      <th>50%</th>\n",
       "      <td>427.500000</td>\n",
       "      <td>2013.000000</td>\n",
       "      <td>2.999990e+05</td>\n",
       "      <td>41000.000000</td>\n",
       "    </tr>\n",
       "    <tr>\n",
       "      <th>75%</th>\n",
       "      <td>652.250000</td>\n",
       "      <td>2015.000000</td>\n",
       "      <td>4.912500e+05</td>\n",
       "      <td>56818.500000</td>\n",
       "    </tr>\n",
       "    <tr>\n",
       "      <th>max</th>\n",
       "      <td>889.000000</td>\n",
       "      <td>2019.000000</td>\n",
       "      <td>8.500003e+06</td>\n",
       "      <td>400000.000000</td>\n",
       "    </tr>\n",
       "  </tbody>\n",
       "</table>\n",
       "</div>"
      ],
      "text/plain": [
       "            index         year         Price     kms_driven\n",
       "count  816.000000   816.000000  8.160000e+02     816.000000\n",
       "mean   431.637255  2012.444853  4.117176e+05   46275.531863\n",
       "std    254.197374     4.002992  4.751844e+05   34297.428044\n",
       "min      0.000000  1995.000000  3.000000e+04       0.000000\n",
       "25%    212.750000  2010.000000  1.750000e+05   27000.000000\n",
       "50%    427.500000  2013.000000  2.999990e+05   41000.000000\n",
       "75%    652.250000  2015.000000  4.912500e+05   56818.500000\n",
       "max    889.000000  2019.000000  8.500003e+06  400000.000000"
      ]
     },
     "execution_count": 25,
     "metadata": {},
     "output_type": "execute_result"
    }
   ],
   "source": [
    "car.describe()"
   ]
  },
  {
   "cell_type": "code",
   "execution_count": 26,
   "id": "770974ad",
   "metadata": {
    "execution": {
     "iopub.execute_input": "2022-07-22T08:08:24.669041Z",
     "iopub.status.busy": "2022-07-22T08:08:24.668687Z",
     "iopub.status.idle": "2022-07-22T08:08:24.806418Z",
     "shell.execute_reply": "2022-07-22T08:08:24.805689Z"
    },
    "papermill": {
     "duration": 0.155272,
     "end_time": "2022-07-22T08:08:24.808434",
     "exception": false,
     "start_time": "2022-07-22T08:08:24.653162",
     "status": "completed"
    },
    "tags": []
   },
   "outputs": [
    {
     "name": "stderr",
     "output_type": "stream",
     "text": [
      "/opt/conda/lib/python3.7/site-packages/seaborn/_decorators.py:43: FutureWarning: Pass the following variable as a keyword arg: x. From version 0.12, the only valid positional argument will be `data`, and passing other arguments without an explicit keyword will result in an error or misinterpretation.\n",
      "  FutureWarning\n"
     ]
    },
    {
     "data": {
      "text/plain": [
       "<AxesSubplot:xlabel='Price'>"
      ]
     },
     "execution_count": 26,
     "metadata": {},
     "output_type": "execute_result"
    },
    {
     "data": {
      "image/png": "[encoded data removed]",
      "text/plain": [
       "<Figure size 432x288 with 1 Axes>"
      ]
     },
     "metadata": {
      "needs_background": "light"
     },
     "output_type": "display_data"
    }
   ],
   "source": [
    "sns.boxplot(car['Price'])"
   ]
  },
  {
   "cell_type": "code",
   "execution_count": 27,
   "id": "583ec1c5",
   "metadata": {
    "execution": {
     "iopub.execute_input": "2022-07-22T08:08:24.840566Z",
     "iopub.status.busy": "2022-07-22T08:08:24.839677Z",
     "iopub.status.idle": "2022-07-22T08:08:25.196559Z",
     "shell.execute_reply": "2022-07-22T08:08:25.195505Z"
    },
    "papermill": {
     "duration": 0.375214,
     "end_time": "2022-07-22T08:08:25.198672",
     "exception": false,
     "start_time": "2022-07-22T08:08:24.823458",
     "status": "completed"
    },
    "tags": []
   },
   "outputs": [
    {
     "data": {
      "text/plain": [
       "<AxesSubplot:xlabel='Price', ylabel='Count'>"
      ]
     },
     "execution_count": 27,
     "metadata": {},
     "output_type": "execute_result"
    },
    {
     "data": {
      "image/png": "[encoded data removed]",
      "text/plain": [
       "<Figure size 432x288 with 1 Axes>"
      ]
     },
     "metadata": {
      "needs_background": "light"
     },
     "output_type": "display_data"
    }
   ],
   "source": [
    "sns.histplot(car['Price'])"
   ]
  },
  {
   "cell_type": "code",
   "execution_count": 28,
   "id": "f8fa5dc2",
   "metadata": {
    "execution": {
     "iopub.execute_input": "2022-07-22T08:08:25.232028Z",
     "iopub.status.busy": "2022-07-22T08:08:25.231623Z",
     "iopub.status.idle": "2022-07-22T08:08:25.237584Z",
     "shell.execute_reply": "2022-07-22T08:08:25.236868Z"
    },
    "papermill": {
     "duration": 0.024707,
     "end_time": "2022-07-22T08:08:25.239099",
     "exception": false,
     "start_time": "2022-07-22T08:08:25.214392",
     "status": "completed"
    },
    "tags": []
   },
   "outputs": [],
   "source": [
    "car=car[car['Price']<8e6]"
   ]
  },
  {
   "cell_type": "code",
   "execution_count": 29,
   "id": "0a5201ba",
   "metadata": {
    "execution": {
     "iopub.execute_input": "2022-07-22T08:08:25.261104Z",
     "iopub.status.busy": "2022-07-22T08:08:25.259749Z",
     "iopub.status.idle": "2022-07-22T08:08:25.282429Z",
     "shell.execute_reply": "2022-07-22T08:08:25.281167Z"
    },
    "papermill": {
     "duration": 0.036407,
     "end_time": "2022-07-22T08:08:25.285273",
     "exception": false,
     "start_time": "2022-07-22T08:08:25.248866",
     "status": "completed"
    },
    "tags": []
   },
   "outputs": [
    {
     "data": {
      "text/html": [
       "<div>\n",
       "<style scoped>\n",
       "    .dataframe tbody tr th:only-of-type {\n",
       "        vertical-align: middle;\n",
       "    }\n",
       "\n",
       "    .dataframe tbody tr th {\n",
       "        vertical-align: top;\n",
       "    }\n",
       "\n",
       "    .dataframe thead th {\n",
       "        text-align: right;\n",
       "    }\n",
       "</style>\n",
       "<table border=\"1\" class=\"dataframe\">\n",
       "  <thead>\n",
       "    <tr style=\"text-align: right;\">\n",
       "      <th></th>\n",
       "      <th>index</th>\n",
       "      <th>year</th>\n",
       "      <th>Price</th>\n",
       "      <th>kms_driven</th>\n",
       "    </tr>\n",
       "  </thead>\n",
       "  <tbody>\n",
       "    <tr>\n",
       "      <th>count</th>\n",
       "      <td>815.000000</td>\n",
       "      <td>815.000000</td>\n",
       "      <td>8.150000e+02</td>\n",
       "      <td>815.000000</td>\n",
       "    </tr>\n",
       "    <tr>\n",
       "      <th>mean</th>\n",
       "      <td>431.477301</td>\n",
       "      <td>2012.442945</td>\n",
       "      <td>4.017933e+05</td>\n",
       "      <td>46277.096933</td>\n",
       "    </tr>\n",
       "    <tr>\n",
       "      <th>std</th>\n",
       "      <td>254.312373</td>\n",
       "      <td>4.005079</td>\n",
       "      <td>3.815888e+05</td>\n",
       "      <td>34318.459638</td>\n",
       "    </tr>\n",
       "    <tr>\n",
       "      <th>min</th>\n",
       "      <td>0.000000</td>\n",
       "      <td>1995.000000</td>\n",
       "      <td>3.000000e+04</td>\n",
       "      <td>0.000000</td>\n",
       "    </tr>\n",
       "    <tr>\n",
       "      <th>25%</th>\n",
       "      <td>212.500000</td>\n",
       "      <td>2010.000000</td>\n",
       "      <td>1.750000e+05</td>\n",
       "      <td>27000.000000</td>\n",
       "    </tr>\n",
       "    <tr>\n",
       "      <th>50%</th>\n",
       "      <td>427.000000</td>\n",
       "      <td>2013.000000</td>\n",
       "      <td>2.999990e+05</td>\n",
       "      <td>41000.000000</td>\n",
       "    </tr>\n",
       "    <tr>\n",
       "      <th>75%</th>\n",
       "      <td>652.500000</td>\n",
       "      <td>2015.000000</td>\n",
       "      <td>4.900000e+05</td>\n",
       "      <td>56879.000000</td>\n",
       "    </tr>\n",
       "    <tr>\n",
       "      <th>max</th>\n",
       "      <td>889.000000</td>\n",
       "      <td>2019.000000</td>\n",
       "      <td>3.100000e+06</td>\n",
       "      <td>400000.000000</td>\n",
       "    </tr>\n",
       "  </tbody>\n",
       "</table>\n",
       "</div>"
      ],
      "text/plain": [
       "            index         year         Price     kms_driven\n",
       "count  815.000000   815.000000  8.150000e+02     815.000000\n",
       "mean   431.477301  2012.442945  4.017933e+05   46277.096933\n",
       "std    254.312373     4.005079  3.815888e+05   34318.459638\n",
       "min      0.000000  1995.000000  3.000000e+04       0.000000\n",
       "25%    212.500000  2010.000000  1.750000e+05   27000.000000\n",
       "50%    427.000000  2013.000000  2.999990e+05   41000.000000\n",
       "75%    652.500000  2015.000000  4.900000e+05   56879.000000\n",
       "max    889.000000  2019.000000  3.100000e+06  400000.000000"
      ]
     },
     "execution_count": 29,
     "metadata": {},
     "output_type": "execute_result"
    }
   ],
   "source": [
    "car.describe()"
   ]
  },
  {
   "cell_type": "code",
   "execution_count": 30,
   "id": "39bb8275",
   "metadata": {
    "execution": {
     "iopub.execute_input": "2022-07-22T08:08:25.319975Z",
     "iopub.status.busy": "2022-07-22T08:08:25.318763Z",
     "iopub.status.idle": "2022-07-22T08:08:25.325130Z",
     "shell.execute_reply": "2022-07-22T08:08:25.324172Z"
    },
    "papermill": {
     "duration": 0.026073,
     "end_time": "2022-07-22T08:08:25.327478",
     "exception": false,
     "start_time": "2022-07-22T08:08:25.301405",
     "status": "completed"
    },
    "tags": []
   },
   "outputs": [],
   "source": [
    "car=car.reset_index()"
   ]
  },
  {
   "cell_type": "code",
   "execution_count": 31,
   "id": "c75cd833",
   "metadata": {
    "execution": {
     "iopub.execute_input": "2022-07-22T08:08:25.361238Z",
     "iopub.status.busy": "2022-07-22T08:08:25.360711Z",
     "iopub.status.idle": "2022-07-22T08:08:25.546324Z",
     "shell.execute_reply": "2022-07-22T08:08:25.545228Z"
    },
    "papermill": {
     "duration": 0.205296,
     "end_time": "2022-07-22T08:08:25.548750",
     "exception": false,
     "start_time": "2022-07-22T08:08:25.343454",
     "status": "completed"
    },
    "tags": []
   },
   "outputs": [],
   "source": [
    "x=car.drop(columns='Price')\n",
    "y=car['Price']\n",
    "from sklearn.model_selection import train_test_split\n",
    "x_train,x_test,y_train,y_test=train_test_split(x,y,test_size=0.05,random_state=52)"
   ]
  },
  {
   "cell_type": "code",
   "execution_count": 32,
   "id": "196672a8",
   "metadata": {
    "execution": {
     "iopub.execute_input": "2022-07-22T08:08:25.581850Z",
     "iopub.status.busy": "2022-07-22T08:08:25.581562Z",
     "iopub.status.idle": "2022-07-22T08:08:25.659367Z",
     "shell.execute_reply": "2022-07-22T08:08:25.658580Z"
    },
    "papermill": {
     "duration": 0.097155,
     "end_time": "2022-07-22T08:08:25.661742",
     "exception": false,
     "start_time": "2022-07-22T08:08:25.564587",
     "status": "completed"
    },
    "tags": []
   },
   "outputs": [],
   "source": [
    "from sklearn.linear_model import LinearRegression\n",
    "from sklearn.metrics import r2_score\n",
    "from sklearn.preprocessing import OneHotEncoder\n",
    "\n",
    "from sklearn.compose import make_column_transformer\n",
    "from sklearn.pipeline import make_pipeline"
   ]
  },
  {
   "cell_type": "code",
   "execution_count": 33,
   "id": "5c38bd58",
   "metadata": {
    "execution": {
     "iopub.execute_input": "2022-07-22T08:08:25.695863Z",
     "iopub.status.busy": "2022-07-22T08:08:25.695267Z",
     "iopub.status.idle": "2022-07-22T08:08:25.705617Z",
     "shell.execute_reply": "2022-07-22T08:08:25.704482Z"
    },
    "papermill": {
     "duration": 0.030398,
     "end_time": "2022-07-22T08:08:25.707840",
     "exception": false,
     "start_time": "2022-07-22T08:08:25.677442",
     "status": "completed"
    },
    "tags": []
   },
   "outputs": [
    {
     "data": {
      "text/plain": [
       "OneHotEncoder()"
      ]
     },
     "execution_count": 33,
     "metadata": {},
     "output_type": "execute_result"
    }
   ],
   "source": [
    "ohe=OneHotEncoder()\n",
    "ohe.fit(x[['name','company','fuel_type']])\n"
   ]
  },
  {
   "cell_type": "code",
   "execution_count": 34,
   "id": "4d2a838e",
   "metadata": {
    "execution": {
     "iopub.execute_input": "2022-07-22T08:08:25.742535Z",
     "iopub.status.busy": "2022-07-22T08:08:25.741909Z",
     "iopub.status.idle": "2022-07-22T08:08:25.750067Z",
     "shell.execute_reply": "2022-07-22T08:08:25.749277Z"
    },
    "papermill": {
     "duration": 0.027615,
     "end_time": "2022-07-22T08:08:25.752101",
     "exception": false,
     "start_time": "2022-07-22T08:08:25.724486",
     "status": "completed"
    },
    "tags": []
   },
   "outputs": [
    {
     "data": {
      "text/plain": [
       "[array(['Audi A3 Cabriolet', 'Audi A4 1.8', 'Audi A4 2.0', 'Audi A6 2.0',\n",
       "        'Audi A8', 'Audi Q3 2.0', 'Audi Q5 2.0', 'Audi Q7', 'BMW 3 Series',\n",
       "        'BMW 5 Series', 'BMW 7 Series', 'BMW X1', 'BMW X1 sDrive20d',\n",
       "        'BMW X1 xDrive20d', 'Chevrolet Beat', 'Chevrolet Beat Diesel',\n",
       "        'Chevrolet Beat LS', 'Chevrolet Beat LT', 'Chevrolet Beat PS',\n",
       "        'Chevrolet Cruze LTZ', 'Chevrolet Enjoy', 'Chevrolet Enjoy 1.4',\n",
       "        'Chevrolet Sail 1.2', 'Chevrolet Sail UVA', 'Chevrolet Spark',\n",
       "        'Chevrolet Spark 1.0', 'Chevrolet Spark LS', 'Chevrolet Spark LT',\n",
       "        'Chevrolet Tavera LS', 'Chevrolet Tavera Neo', 'Datsun GO T',\n",
       "        'Datsun Go Plus', 'Datsun Redi GO', 'Fiat Linea Emotion',\n",
       "        'Fiat Petra ELX', 'Fiat Punto Emotion', 'Force Motors Force',\n",
       "        'Force Motors One', 'Ford EcoSport', 'Ford EcoSport Ambiente',\n",
       "        'Ford EcoSport Titanium', 'Ford EcoSport Trend',\n",
       "        'Ford Endeavor 4x4', 'Ford Fiesta', 'Ford Fiesta SXi', 'Ford Figo',\n",
       "        'Ford Figo Diesel', 'Ford Figo Duratorq', 'Ford Figo Petrol',\n",
       "        'Ford Fusion 1.4', 'Ford Ikon 1.3', 'Ford Ikon 1.6',\n",
       "        'Hindustan Motors Ambassador', 'Honda Accord', 'Honda Amaze',\n",
       "        'Honda Amaze 1.2', 'Honda Amaze 1.5', 'Honda Brio', 'Honda Brio V',\n",
       "        'Honda Brio VX', 'Honda City', 'Honda City 1.5', 'Honda City SV',\n",
       "        'Honda City VX', 'Honda City ZX', 'Honda Jazz S', 'Honda Jazz VX',\n",
       "        'Honda Mobilio', 'Honda Mobilio S', 'Honda WR V', 'Hyundai Accent',\n",
       "        'Hyundai Accent Executive', 'Hyundai Accent GLE',\n",
       "        'Hyundai Accent GLX', 'Hyundai Creta', 'Hyundai Creta 1.6',\n",
       "        'Hyundai Elantra 1.8', 'Hyundai Elantra SX', 'Hyundai Elite i20',\n",
       "        'Hyundai Eon', 'Hyundai Eon D', 'Hyundai Eon Era',\n",
       "        'Hyundai Eon Magna', 'Hyundai Eon Sportz', 'Hyundai Fluidic Verna',\n",
       "        'Hyundai Getz', 'Hyundai Getz GLE', 'Hyundai Getz Prime',\n",
       "        'Hyundai Grand i10', 'Hyundai Santro', 'Hyundai Santro AE',\n",
       "        'Hyundai Santro Xing', 'Hyundai Sonata Transform', 'Hyundai Verna',\n",
       "        'Hyundai Verna 1.4', 'Hyundai Verna 1.6', 'Hyundai Verna Fluidic',\n",
       "        'Hyundai Verna Transform', 'Hyundai Verna VGT',\n",
       "        'Hyundai Xcent Base', 'Hyundai Xcent SX', 'Hyundai i10',\n",
       "        'Hyundai i10 Era', 'Hyundai i10 Magna', 'Hyundai i10 Sportz',\n",
       "        'Hyundai i20', 'Hyundai i20 Active', 'Hyundai i20 Asta',\n",
       "        'Hyundai i20 Magna', 'Hyundai i20 Select', 'Hyundai i20 Sportz',\n",
       "        'Jaguar XE XE', 'Jaguar XF 2.2', 'Jeep Wrangler Unlimited',\n",
       "        'Land Rover Freelander', 'Mahindra Bolero DI',\n",
       "        'Mahindra Bolero Power', 'Mahindra Bolero SLE',\n",
       "        'Mahindra Jeep CL550', 'Mahindra Jeep MM', 'Mahindra KUV100',\n",
       "        'Mahindra KUV100 K8', 'Mahindra Logan', 'Mahindra Logan Diesel',\n",
       "        'Mahindra Quanto C4', 'Mahindra Quanto C8', 'Mahindra Scorpio',\n",
       "        'Mahindra Scorpio 2.6', 'Mahindra Scorpio LX',\n",
       "        'Mahindra Scorpio S10', 'Mahindra Scorpio S4',\n",
       "        'Mahindra Scorpio SLE', 'Mahindra Scorpio SLX',\n",
       "        'Mahindra Scorpio VLX', 'Mahindra Scorpio Vlx',\n",
       "        'Mahindra Scorpio W', 'Mahindra TUV300 T4', 'Mahindra TUV300 T8',\n",
       "        'Mahindra Thar CRDe', 'Mahindra XUV500', 'Mahindra XUV500 W10',\n",
       "        'Mahindra XUV500 W6', 'Mahindra XUV500 W8', 'Mahindra Xylo D2',\n",
       "        'Mahindra Xylo E4', 'Mahindra Xylo E8', 'Maruti Suzuki 800',\n",
       "        'Maruti Suzuki A', 'Maruti Suzuki Alto', 'Maruti Suzuki Baleno',\n",
       "        'Maruti Suzuki Celerio', 'Maruti Suzuki Ciaz',\n",
       "        'Maruti Suzuki Dzire', 'Maruti Suzuki Eeco',\n",
       "        'Maruti Suzuki Ertiga', 'Maruti Suzuki Esteem',\n",
       "        'Maruti Suzuki Estilo', 'Maruti Suzuki Maruti',\n",
       "        'Maruti Suzuki Omni', 'Maruti Suzuki Ritz', 'Maruti Suzuki S',\n",
       "        'Maruti Suzuki SX4', 'Maruti Suzuki Stingray',\n",
       "        'Maruti Suzuki Swift', 'Maruti Suzuki Versa',\n",
       "        'Maruti Suzuki Vitara', 'Maruti Suzuki Wagon', 'Maruti Suzuki Zen',\n",
       "        'Mercedes Benz A', 'Mercedes Benz B', 'Mercedes Benz C',\n",
       "        'Mercedes Benz GLA', 'Mini Cooper S', 'Mitsubishi Lancer 1.8',\n",
       "        'Mitsubishi Pajero Sport', 'Nissan Micra XL', 'Nissan Micra XV',\n",
       "        'Nissan Sunny', 'Nissan Sunny XL', 'Nissan Terrano XL',\n",
       "        'Nissan X Trail', 'Renault Duster', 'Renault Duster 110',\n",
       "        'Renault Duster 110PS', 'Renault Duster 85', 'Renault Duster 85PS',\n",
       "        'Renault Duster RxL', 'Renault Kwid', 'Renault Kwid 1.0',\n",
       "        'Renault Kwid RXT', 'Renault Lodgy 85', 'Renault Scala RxL',\n",
       "        'Skoda Fabia', 'Skoda Fabia 1.2L', 'Skoda Fabia Classic',\n",
       "        'Skoda Laura', 'Skoda Octavia Classic', 'Skoda Rapid Elegance',\n",
       "        'Skoda Superb 1.8', 'Skoda Yeti Ambition', 'Tata Aria Pleasure',\n",
       "        'Tata Bolt XM', 'Tata Indica', 'Tata Indica V2', 'Tata Indica eV2',\n",
       "        'Tata Indigo CS', 'Tata Indigo LS', 'Tata Indigo LX',\n",
       "        'Tata Indigo Marina', 'Tata Indigo eCS', 'Tata Manza',\n",
       "        'Tata Manza Aqua', 'Tata Manza Aura', 'Tata Manza ELAN',\n",
       "        'Tata Nano', 'Tata Nano Cx', 'Tata Nano GenX', 'Tata Nano LX',\n",
       "        'Tata Nano Lx', 'Tata Sumo Gold', 'Tata Sumo Grande',\n",
       "        'Tata Sumo Victa', 'Tata Tiago Revotorq', 'Tata Tiago Revotron',\n",
       "        'Tata Tigor Revotron', 'Tata Venture EX', 'Tata Vista Quadrajet',\n",
       "        'Tata Zest Quadrajet', 'Tata Zest XE', 'Tata Zest XM',\n",
       "        'Toyota Corolla', 'Toyota Corolla Altis', 'Toyota Corolla H2',\n",
       "        'Toyota Etios', 'Toyota Etios G', 'Toyota Etios GD',\n",
       "        'Toyota Etios Liva', 'Toyota Fortuner', 'Toyota Fortuner 3.0',\n",
       "        'Toyota Innova 2.0', 'Toyota Innova 2.5', 'Toyota Qualis',\n",
       "        'Volkswagen Jetta Comfortline', 'Volkswagen Jetta Highline',\n",
       "        'Volkswagen Passat Diesel', 'Volkswagen Polo',\n",
       "        'Volkswagen Polo Comfortline', 'Volkswagen Polo Highline',\n",
       "        'Volkswagen Polo Highline1.2L', 'Volkswagen Polo Trendline',\n",
       "        'Volkswagen Vento Comfortline', 'Volkswagen Vento Highline',\n",
       "        'Volkswagen Vento Konekt', 'Volvo S80 Summum'], dtype=object),\n",
       " array(['Audi', 'BMW', 'Chevrolet', 'Datsun', 'Fiat', 'Force', 'Ford',\n",
       "        'Hindustan', 'Honda', 'Hyundai', 'Jaguar', 'Jeep', 'Land',\n",
       "        'Mahindra', 'Maruti', 'Mercedes', 'Mini', 'Mitsubishi', 'Nissan',\n",
       "        'Renault', 'Skoda', 'Tata', 'Toyota', 'Volkswagen', 'Volvo'],\n",
       "       dtype=object),\n",
       " array(['Diesel', 'LPG', 'Petrol'], dtype=object)]"
      ]
     },
     "execution_count": 34,
     "metadata": {},
     "output_type": "execute_result"
    }
   ],
   "source": [
    "ohe.categories_"
   ]
  },
  {
   "cell_type": "code",
   "execution_count": 35,
   "id": "e7453fb8",
   "metadata": {
    "execution": {
     "iopub.execute_input": "2022-07-22T08:08:25.787905Z",
     "iopub.status.busy": "2022-07-22T08:08:25.787304Z",
     "iopub.status.idle": "2022-07-22T08:08:25.791558Z",
     "shell.execute_reply": "2022-07-22T08:08:25.790936Z"
    },
    "papermill": {
     "duration": 0.024561,
     "end_time": "2022-07-22T08:08:25.793997",
     "exception": false,
     "start_time": "2022-07-22T08:08:25.769436",
     "status": "completed"
    },
    "tags": []
   },
   "outputs": [],
   "source": [
    "column_trans=make_column_transformer((OneHotEncoder(categories=ohe.categories_),['name','company','fuel_type']),remainder='passthrough')\n"
   ]
  },
  {
   "cell_type": "code",
   "execution_count": 36,
   "id": "c35e25a3",
   "metadata": {
    "execution": {
     "iopub.execute_input": "2022-07-22T08:08:25.828365Z",
     "iopub.status.busy": "2022-07-22T08:08:25.827763Z",
     "iopub.status.idle": "2022-07-22T08:08:25.831705Z",
     "shell.execute_reply": "2022-07-22T08:08:25.831070Z"
    },
    "papermill": {
     "duration": 0.023218,
     "end_time": "2022-07-22T08:08:25.833547",
     "exception": false,
     "start_time": "2022-07-22T08:08:25.810329",
     "status": "completed"
    },
    "tags": []
   },
   "outputs": [],
   "source": [
    "lr=LinearRegression()\n",
    "pipe=make_pipeline(column_trans,lr)"
   ]
  },
  {
   "cell_type": "code",
   "execution_count": 37,
   "id": "1770ca1b",
   "metadata": {
    "execution": {
     "iopub.execute_input": "2022-07-22T08:08:25.867533Z",
     "iopub.status.busy": "2022-07-22T08:08:25.866972Z",
     "iopub.status.idle": "2022-07-22T08:08:25.990449Z",
     "shell.execute_reply": "2022-07-22T08:08:25.989396Z"
    },
    "papermill": {
     "duration": 0.143596,
     "end_time": "2022-07-22T08:08:25.993216",
     "exception": false,
     "start_time": "2022-07-22T08:08:25.849620",
     "status": "completed"
    },
    "tags": []
   },
   "outputs": [
    {
     "data": {
      "text/plain": [
       "Pipeline(steps=[('columntransformer',\n",
       "                 ColumnTransformer(remainder='passthrough',\n",
       "                                   transformers=[('onehotencoder',\n",
       "                                                  OneHotEncoder(categories=[array(['Audi A3 Cabriolet', 'Audi A4 1.8', 'Audi A4 2.0', 'Audi A6 2.0',\n",
       "       'Audi A8', 'Audi Q3 2.0', 'Audi Q5 2.0', 'Audi Q7', 'BMW 3 Series',\n",
       "       'BMW 5 Series', 'BMW 7 Series', 'BMW X1', 'BMW X1 sDrive20d',\n",
       "       'BMW X1 xDrive20d', 'Chevrolet Beat', 'Chevrolet Beat...\n",
       "                                                                            array(['Audi', 'BMW', 'Chevrolet', 'Datsun', 'Fiat', 'Force', 'Ford',\n",
       "       'Hindustan', 'Honda', 'Hyundai', 'Jaguar', 'Jeep', 'Land',\n",
       "       'Mahindra', 'Maruti', 'Mercedes', 'Mini', 'Mitsubishi', 'Nissan',\n",
       "       'Renault', 'Skoda', 'Tata', 'Toyota', 'Volkswagen', 'Volvo'],\n",
       "      dtype=object),\n",
       "                                                                            array(['Diesel', 'LPG', 'Petrol'], dtype=object)]),\n",
       "                                                  ['name', 'company',\n",
       "                                                   'fuel_type'])])),\n",
       "                ('linearregression', LinearRegression())])"
      ]
     },
     "execution_count": 37,
     "metadata": {},
     "output_type": "execute_result"
    }
   ],
   "source": [
    "pipe.fit(x_train,y_train)"
   ]
  },
  {
   "cell_type": "code",
   "execution_count": 38,
   "id": "e6067568",
   "metadata": {
    "execution": {
     "iopub.execute_input": "2022-07-22T08:08:26.028523Z",
     "iopub.status.busy": "2022-07-22T08:08:26.027946Z",
     "iopub.status.idle": "2022-07-22T08:08:26.038554Z",
     "shell.execute_reply": "2022-07-22T08:08:26.037353Z"
    },
    "papermill": {
     "duration": 0.031229,
     "end_time": "2022-07-22T08:08:26.041027",
     "exception": false,
     "start_time": "2022-07-22T08:08:26.009798",
     "status": "completed"
    },
    "tags": []
   },
   "outputs": [],
   "source": [
    "y_pred=pipe.predict(x_test)"
   ]
  },
  {
   "cell_type": "markdown",
   "id": "a178ecf2",
   "metadata": {
    "papermill": {
     "duration": 0.01621,
     "end_time": "2022-07-22T08:08:26.073703",
     "exception": false,
     "start_time": "2022-07-22T08:08:26.057493",
     "status": "completed"
    },
    "tags": []
   },
   "source": []
  },
  {
   "cell_type": "code",
   "execution_count": 39,
   "id": "57a8f5f6",
   "metadata": {
    "execution": {
     "iopub.execute_input": "2022-07-22T08:08:26.108462Z",
     "iopub.status.busy": "2022-07-22T08:08:26.107928Z",
     "iopub.status.idle": "2022-07-22T08:08:26.115951Z",
     "shell.execute_reply": "2022-07-22T08:08:26.114477Z"
    },
    "papermill": {
     "duration": 0.028195,
     "end_time": "2022-07-22T08:08:26.118264",
     "exception": false,
     "start_time": "2022-07-22T08:08:26.090069",
     "status": "completed"
    },
    "tags": []
   },
   "outputs": [
    {
     "data": {
      "text/plain": [
       "0.9099681225667546"
      ]
     },
     "execution_count": 39,
     "metadata": {},
     "output_type": "execute_result"
    }
   ],
   "source": [
    "r2_score(y_test,y_pred)"
   ]
  },
  {
   "cell_type": "code",
   "execution_count": null,
   "id": "1b28a260",
   "metadata": {
    "papermill": {
     "duration": 0.016179,
     "end_time": "2022-07-22T08:08:26.151099",
     "exception": false,
     "start_time": "2022-07-22T08:08:26.134920",
     "status": "completed"
    },
    "tags": []
   },
   "outputs": [],
   "source": []
  }
 ],
 "metadata": {
  "kernelspec": {
   "display_name": "Python 3",
   "language": "python",
   "name": "python3"
  },
  "language_info": {
   "codemirror_mode": {
    "name": "ipython",
    "version": 3
   },
   "file_extension": ".py",
   "mimetype": "text/x-python",
   "name": "python",
   "nbconvert_exporter": "python",
   "pygments_lexer": "ipython3",
   "version": "3.7.12"
  },
  "papermill": {
   "default_parameters": {},
   "duration": 15.20027,
   "end_time": "2022-07-22T08:08:27.089711",
   "environment_variables": {},
   "exception": null,
   "input_path": "__notebook__.ipynb",
   "output_path": "__notebook__.ipynb",
   "parameters": {},
   "start_time": "2022-07-22T08:08:11.889441",
   "version": "2.3.4"
  }
 },
 "nbformat": 4,
 "nbformat_minor": 5
}
