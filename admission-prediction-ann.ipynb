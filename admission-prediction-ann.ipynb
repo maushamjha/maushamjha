{
 "cells": [
  {
   "cell_type": "code",
   "execution_count": 1,
   "id": "e63a571c",
   "metadata": {
    "_cell_guid": "b1076dfc-b9ad-4769-8c92-a6c4dae69d19",
    "_uuid": "8f2839f25d086af736a60e9eeb907d3b93b6e0e5",
    "execution": {
     "iopub.execute_input": "2022-07-21T14:28:20.906906Z",
     "iopub.status.busy": "2022-07-21T14:28:20.906463Z",
     "iopub.status.idle": "2022-07-21T14:28:20.930218Z",
     "shell.execute_reply": "2022-07-21T14:28:20.928863Z"
    },
    "papermill": {
     "duration": 0.03464,
     "end_time": "2022-07-21T14:28:20.933313",
     "exception": false,
     "start_time": "2022-07-21T14:28:20.898673",
     "status": "completed"
    },
    "tags": []
   },
   "outputs": [
    {
     "name": "stdout",
     "output_type": "stream",
     "text": [
      "/kaggle/input/graduate-admissions/Admission_Predict.csv\n",
      "/kaggle/input/graduate-admissions/Admission_Predict_Ver1.1.csv\n"
     ]
    }
   ],
   "source": [
    "# This Python 3 environment comes with many helpful analytics libraries installed\n",
    "# It is defined by the kaggle/python Docker image: https://github.com/kaggle/docker-python\n",
    "# For example, here's several helpful packages to load\n",
    "\n",
    "import numpy as np # linear algebra\n",
    "import pandas as pd # data processing, CSV file I/O (e.g. pd.read_csv)\n",
    "\n",
    "# Input data files are available in the read-only \"../input/\" directory\n",
    "# For example, running this (by clicking run or pressing Shift+Enter) will list all files under the input directory\n",
    "\n",
    "import os\n",
    "for dirname, _, filenames in os.walk('/kaggle/input'):\n",
    "    for filename in filenames:\n",
    "        print(os.path.join(dirname, filename))\n",
    "\n",
    "# You can write up to 20GB to the current directory (/kaggle/working/) that gets preserved as output when you create a version using \"Save & Run All\" \n",
    "# You can also write temporary files to /kaggle/temp/, but they won't be saved outside of the current session"
   ]
  },
  {
   "cell_type": "code",
   "execution_count": 2,
   "id": "2f738c19",
   "metadata": {
    "execution": {
     "iopub.execute_input": "2022-07-21T14:28:20.945896Z",
     "iopub.status.busy": "2022-07-21T14:28:20.945411Z",
     "iopub.status.idle": "2022-07-21T14:28:20.965709Z",
     "shell.execute_reply": "2022-07-21T14:28:20.964392Z"
    },
    "papermill": {
     "duration": 0.02982,
     "end_time": "2022-07-21T14:28:20.968460",
     "exception": false,
     "start_time": "2022-07-21T14:28:20.938640",
     "status": "completed"
    },
    "tags": []
   },
   "outputs": [],
   "source": [
    "df=pd.read_csv('/kaggle/input/graduate-admissions/Admission_Predict_Ver1.1.csv')"
   ]
  },
  {
   "cell_type": "code",
   "execution_count": 3,
   "id": "1b223eeb",
   "metadata": {
    "execution": {
     "iopub.execute_input": "2022-07-21T14:28:20.980609Z",
     "iopub.status.busy": "2022-07-21T14:28:20.979651Z",
     "iopub.status.idle": "2022-07-21T14:28:21.010904Z",
     "shell.execute_reply": "2022-07-21T14:28:21.009698Z"
    },
    "papermill": {
     "duration": 0.040137,
     "end_time": "2022-07-21T14:28:21.013624",
     "exception": false,
     "start_time": "2022-07-21T14:28:20.973487",
     "status": "completed"
    },
    "tags": []
   },
   "outputs": [
    {
     "data": {
      "text/html": [
       "<div>\n",
       "<style scoped>\n",
       "    .dataframe tbody tr th:only-of-type {\n",
       "        vertical-align: middle;\n",
       "    }\n",
       "\n",
       "    .dataframe tbody tr th {\n",
       "        vertical-align: top;\n",
       "    }\n",
       "\n",
       "    .dataframe thead th {\n",
       "        text-align: right;\n",
       "    }\n",
       "</style>\n",
       "<table border=\"1\" class=\"dataframe\">\n",
       "  <thead>\n",
       "    <tr style=\"text-align: right;\">\n",
       "      <th></th>\n",
       "      <th>Serial No.</th>\n",
       "      <th>GRE Score</th>\n",
       "      <th>TOEFL Score</th>\n",
       "      <th>University Rating</th>\n",
       "      <th>SOP</th>\n",
       "      <th>LOR</th>\n",
       "      <th>CGPA</th>\n",
       "      <th>Research</th>\n",
       "      <th>Chance of Admit</th>\n",
       "    </tr>\n",
       "  </thead>\n",
       "  <tbody>\n",
       "    <tr>\n",
       "      <th>0</th>\n",
       "      <td>1</td>\n",
       "      <td>337</td>\n",
       "      <td>118</td>\n",
       "      <td>4</td>\n",
       "      <td>4.5</td>\n",
       "      <td>4.5</td>\n",
       "      <td>9.65</td>\n",
       "      <td>1</td>\n",
       "      <td>0.92</td>\n",
       "    </tr>\n",
       "    <tr>\n",
       "      <th>1</th>\n",
       "      <td>2</td>\n",
       "      <td>324</td>\n",
       "      <td>107</td>\n",
       "      <td>4</td>\n",
       "      <td>4.0</td>\n",
       "      <td>4.5</td>\n",
       "      <td>8.87</td>\n",
       "      <td>1</td>\n",
       "      <td>0.76</td>\n",
       "    </tr>\n",
       "    <tr>\n",
       "      <th>2</th>\n",
       "      <td>3</td>\n",
       "      <td>316</td>\n",
       "      <td>104</td>\n",
       "      <td>3</td>\n",
       "      <td>3.0</td>\n",
       "      <td>3.5</td>\n",
       "      <td>8.00</td>\n",
       "      <td>1</td>\n",
       "      <td>0.72</td>\n",
       "    </tr>\n",
       "    <tr>\n",
       "      <th>3</th>\n",
       "      <td>4</td>\n",
       "      <td>322</td>\n",
       "      <td>110</td>\n",
       "      <td>3</td>\n",
       "      <td>3.5</td>\n",
       "      <td>2.5</td>\n",
       "      <td>8.67</td>\n",
       "      <td>1</td>\n",
       "      <td>0.80</td>\n",
       "    </tr>\n",
       "    <tr>\n",
       "      <th>4</th>\n",
       "      <td>5</td>\n",
       "      <td>314</td>\n",
       "      <td>103</td>\n",
       "      <td>2</td>\n",
       "      <td>2.0</td>\n",
       "      <td>3.0</td>\n",
       "      <td>8.21</td>\n",
       "      <td>0</td>\n",
       "      <td>0.65</td>\n",
       "    </tr>\n",
       "    <tr>\n",
       "      <th>...</th>\n",
       "      <td>...</td>\n",
       "      <td>...</td>\n",
       "      <td>...</td>\n",
       "      <td>...</td>\n",
       "      <td>...</td>\n",
       "      <td>...</td>\n",
       "      <td>...</td>\n",
       "      <td>...</td>\n",
       "      <td>...</td>\n",
       "    </tr>\n",
       "    <tr>\n",
       "      <th>495</th>\n",
       "      <td>496</td>\n",
       "      <td>332</td>\n",
       "      <td>108</td>\n",
       "      <td>5</td>\n",
       "      <td>4.5</td>\n",
       "      <td>4.0</td>\n",
       "      <td>9.02</td>\n",
       "      <td>1</td>\n",
       "      <td>0.87</td>\n",
       "    </tr>\n",
       "    <tr>\n",
       "      <th>496</th>\n",
       "      <td>497</td>\n",
       "      <td>337</td>\n",
       "      <td>117</td>\n",
       "      <td>5</td>\n",
       "      <td>5.0</td>\n",
       "      <td>5.0</td>\n",
       "      <td>9.87</td>\n",
       "      <td>1</td>\n",
       "      <td>0.96</td>\n",
       "    </tr>\n",
       "    <tr>\n",
       "      <th>497</th>\n",
       "      <td>498</td>\n",
       "      <td>330</td>\n",
       "      <td>120</td>\n",
       "      <td>5</td>\n",
       "      <td>4.5</td>\n",
       "      <td>5.0</td>\n",
       "      <td>9.56</td>\n",
       "      <td>1</td>\n",
       "      <td>0.93</td>\n",
       "    </tr>\n",
       "    <tr>\n",
       "      <th>498</th>\n",
       "      <td>499</td>\n",
       "      <td>312</td>\n",
       "      <td>103</td>\n",
       "      <td>4</td>\n",
       "      <td>4.0</td>\n",
       "      <td>5.0</td>\n",
       "      <td>8.43</td>\n",
       "      <td>0</td>\n",
       "      <td>0.73</td>\n",
       "    </tr>\n",
       "    <tr>\n",
       "      <th>499</th>\n",
       "      <td>500</td>\n",
       "      <td>327</td>\n",
       "      <td>113</td>\n",
       "      <td>4</td>\n",
       "      <td>4.5</td>\n",
       "      <td>4.5</td>\n",
       "      <td>9.04</td>\n",
       "      <td>0</td>\n",
       "      <td>0.84</td>\n",
       "    </tr>\n",
       "  </tbody>\n",
       "</table>\n",
       "<p>500 rows × 9 columns</p>\n",
       "</div>"
      ],
      "text/plain": [
       "     Serial No.  GRE Score  TOEFL Score  University Rating  SOP  LOR   CGPA  \\\n",
       "0             1        337          118                  4  4.5   4.5  9.65   \n",
       "1             2        324          107                  4  4.0   4.5  8.87   \n",
       "2             3        316          104                  3  3.0   3.5  8.00   \n",
       "3             4        322          110                  3  3.5   2.5  8.67   \n",
       "4             5        314          103                  2  2.0   3.0  8.21   \n",
       "..          ...        ...          ...                ...  ...   ...   ...   \n",
       "495         496        332          108                  5  4.5   4.0  9.02   \n",
       "496         497        337          117                  5  5.0   5.0  9.87   \n",
       "497         498        330          120                  5  4.5   5.0  9.56   \n",
       "498         499        312          103                  4  4.0   5.0  8.43   \n",
       "499         500        327          113                  4  4.5   4.5  9.04   \n",
       "\n",
       "     Research  Chance of Admit   \n",
       "0           1              0.92  \n",
       "1           1              0.76  \n",
       "2           1              0.72  \n",
       "3           1              0.80  \n",
       "4           0              0.65  \n",
       "..        ...               ...  \n",
       "495         1              0.87  \n",
       "496         1              0.96  \n",
       "497         1              0.93  \n",
       "498         0              0.73  \n",
       "499         0              0.84  \n",
       "\n",
       "[500 rows x 9 columns]"
      ]
     },
     "execution_count": 3,
     "metadata": {},
     "output_type": "execute_result"
    }
   ],
   "source": [
    "df"
   ]
  },
  {
   "cell_type": "code",
   "execution_count": 4,
   "id": "00accebf",
   "metadata": {
    "execution": {
     "iopub.execute_input": "2022-07-21T14:28:21.026841Z",
     "iopub.status.busy": "2022-07-21T14:28:21.026116Z",
     "iopub.status.idle": "2022-07-21T14:28:21.035334Z",
     "shell.execute_reply": "2022-07-21T14:28:21.034093Z"
    },
    "papermill": {
     "duration": 0.018946,
     "end_time": "2022-07-21T14:28:21.038048",
     "exception": false,
     "start_time": "2022-07-21T14:28:21.019102",
     "status": "completed"
    },
    "tags": []
   },
   "outputs": [],
   "source": [
    "df=df.drop(columns=['Serial No.'])"
   ]
  },
  {
   "cell_type": "code",
   "execution_count": 5,
   "id": "6437e11c",
   "metadata": {
    "execution": {
     "iopub.execute_input": "2022-07-21T14:28:21.050547Z",
     "iopub.status.busy": "2022-07-21T14:28:21.050163Z",
     "iopub.status.idle": "2022-07-21T14:28:22.267030Z",
     "shell.execute_reply": "2022-07-21T14:28:22.265647Z"
    },
    "papermill": {
     "duration": 1.226389,
     "end_time": "2022-07-21T14:28:22.269836",
     "exception": false,
     "start_time": "2022-07-21T14:28:21.043447",
     "status": "completed"
    },
    "tags": []
   },
   "outputs": [],
   "source": [
    "from sklearn.model_selection import train_test_split\n",
    "x_train,x_test,y_train,y_test=train_test_split(df.iloc[:,0:-1],df.iloc[:,-1],test_size=.2)"
   ]
  },
  {
   "cell_type": "code",
   "execution_count": 6,
   "id": "572a5116",
   "metadata": {
    "execution": {
     "iopub.execute_input": "2022-07-21T14:28:22.282357Z",
     "iopub.status.busy": "2022-07-21T14:28:22.281946Z",
     "iopub.status.idle": "2022-07-21T14:28:22.295947Z",
     "shell.execute_reply": "2022-07-21T14:28:22.294679Z"
    },
    "papermill": {
     "duration": 0.022876,
     "end_time": "2022-07-21T14:28:22.298226",
     "exception": false,
     "start_time": "2022-07-21T14:28:22.275350",
     "status": "completed"
    },
    "tags": []
   },
   "outputs": [],
   "source": [
    "from sklearn.preprocessing import MinMaxScaler\n",
    "scaler=MinMaxScaler()\n",
    "x_train=scaler.fit_transform(x_train)\n",
    "x_test=scaler.transform(x_test)"
   ]
  },
  {
   "cell_type": "code",
   "execution_count": 7,
   "id": "512cf7a1",
   "metadata": {
    "execution": {
     "iopub.execute_input": "2022-07-21T14:28:22.310753Z",
     "iopub.status.busy": "2022-07-21T14:28:22.310369Z",
     "iopub.status.idle": "2022-07-21T14:28:32.388369Z",
     "shell.execute_reply": "2022-07-21T14:28:32.387306Z"
    },
    "papermill": {
     "duration": 10.087639,
     "end_time": "2022-07-21T14:28:32.391270",
     "exception": false,
     "start_time": "2022-07-21T14:28:22.303631",
     "status": "completed"
    },
    "tags": []
   },
   "outputs": [],
   "source": [
    "import tensorflow\n",
    "from tensorflow import keras\n",
    "from keras import Sequential\n",
    "from keras.layers import Dense"
   ]
  },
  {
   "cell_type": "code",
   "execution_count": 8,
   "id": "29e8b2ba",
   "metadata": {
    "execution": {
     "iopub.execute_input": "2022-07-21T14:28:32.404553Z",
     "iopub.status.busy": "2022-07-21T14:28:32.403402Z",
     "iopub.status.idle": "2022-07-21T14:28:32.538862Z",
     "shell.execute_reply": "2022-07-21T14:28:32.537727Z"
    },
    "papermill": {
     "duration": 0.145553,
     "end_time": "2022-07-21T14:28:32.542306",
     "exception": false,
     "start_time": "2022-07-21T14:28:32.396753",
     "status": "completed"
    },
    "tags": []
   },
   "outputs": [
    {
     "name": "stderr",
     "output_type": "stream",
     "text": [
      "2022-07-21 14:28:32.451410: I tensorflow/core/common_runtime/process_util.cc:146] Creating new thread pool with default inter op setting: 2. Tune using inter_op_parallelism_threads for best performance.\n"
     ]
    }
   ],
   "source": [
    "model=Sequential()\n",
    "model.add(Dense(7,activation='relu',input_dim=7))\n",
    "model.add(Dense(7,activation='relu'))\n",
    "model.add(Dense(1,activation='linear'))"
   ]
  },
  {
   "cell_type": "code",
   "execution_count": 9,
   "id": "4fac42cb",
   "metadata": {
    "execution": {
     "iopub.execute_input": "2022-07-21T14:28:32.555782Z",
     "iopub.status.busy": "2022-07-21T14:28:32.555376Z",
     "iopub.status.idle": "2022-07-21T14:28:32.563051Z",
     "shell.execute_reply": "2022-07-21T14:28:32.561178Z"
    },
    "papermill": {
     "duration": 0.018002,
     "end_time": "2022-07-21T14:28:32.566613",
     "exception": false,
     "start_time": "2022-07-21T14:28:32.548611",
     "status": "completed"
    },
    "tags": []
   },
   "outputs": [
    {
     "name": "stdout",
     "output_type": "stream",
     "text": [
      "Model: \"sequential\"\n",
      "_________________________________________________________________\n",
      "Layer (type)                 Output Shape              Param #   \n",
      "=================================================================\n",
      "dense (Dense)                (None, 7)                 56        \n",
      "_________________________________________________________________\n",
      "dense_1 (Dense)              (None, 7)                 56        \n",
      "_________________________________________________________________\n",
      "dense_2 (Dense)              (None, 1)                 8         \n",
      "=================================================================\n",
      "Total params: 120\n",
      "Trainable params: 120\n",
      "Non-trainable params: 0\n",
      "_________________________________________________________________\n"
     ]
    }
   ],
   "source": [
    "model.summary()"
   ]
  },
  {
   "cell_type": "code",
   "execution_count": 10,
   "id": "8466a98f",
   "metadata": {
    "execution": {
     "iopub.execute_input": "2022-07-21T14:28:32.580366Z",
     "iopub.status.busy": "2022-07-21T14:28:32.579644Z",
     "iopub.status.idle": "2022-07-21T14:28:32.592409Z",
     "shell.execute_reply": "2022-07-21T14:28:32.591439Z"
    },
    "papermill": {
     "duration": 0.02251,
     "end_time": "2022-07-21T14:28:32.594889",
     "exception": false,
     "start_time": "2022-07-21T14:28:32.572379",
     "status": "completed"
    },
    "tags": []
   },
   "outputs": [],
   "source": [
    "model.compile(loss='mean_squared_error',optimizer='Adam')"
   ]
  },
  {
   "cell_type": "code",
   "execution_count": 11,
   "id": "ae9999cc",
   "metadata": {
    "execution": {
     "iopub.execute_input": "2022-07-21T14:28:32.607811Z",
     "iopub.status.busy": "2022-07-21T14:28:32.607192Z",
     "iopub.status.idle": "2022-07-21T14:28:37.204603Z",
     "shell.execute_reply": "2022-07-21T14:28:37.202780Z"
    },
    "papermill": {
     "duration": 4.607288,
     "end_time": "2022-07-21T14:28:37.207670",
     "exception": false,
     "start_time": "2022-07-21T14:28:32.600382",
     "status": "completed"
    },
    "tags": []
   },
   "outputs": [
    {
     "name": "stderr",
     "output_type": "stream",
     "text": [
      "2022-07-21 14:28:32.693360: I tensorflow/compiler/mlir/mlir_graph_optimization_pass.cc:185] None of the MLIR Optimization Passes are enabled (registered 2)\n"
     ]
    },
    {
     "name": "stdout",
     "output_type": "stream",
     "text": [
      "Epoch 1/60\n",
      "10/10 [==============================] - 1s 23ms/step - loss: 0.3043 - val_loss: 0.2735\n",
      "Epoch 2/60\n",
      "10/10 [==============================] - 0s 5ms/step - loss: 0.2400 - val_loss: 0.2122\n",
      "Epoch 3/60\n",
      "10/10 [==============================] - 0s 6ms/step - loss: 0.1833 - val_loss: 0.1578\n",
      "Epoch 4/60\n",
      "10/10 [==============================] - 0s 6ms/step - loss: 0.1329 - val_loss: 0.1109\n",
      "Epoch 5/60\n",
      "10/10 [==============================] - 0s 5ms/step - loss: 0.0904 - val_loss: 0.0709\n",
      "Epoch 6/60\n",
      "10/10 [==============================] - 0s 6ms/step - loss: 0.0557 - val_loss: 0.0407\n",
      "Epoch 7/60\n",
      "10/10 [==============================] - 0s 5ms/step - loss: 0.0318 - val_loss: 0.0218\n",
      "Epoch 8/60\n",
      "10/10 [==============================] - 0s 5ms/step - loss: 0.0180 - val_loss: 0.0119\n",
      "Epoch 9/60\n",
      "10/10 [==============================] - 0s 6ms/step - loss: 0.0110 - val_loss: 0.0081\n",
      "Epoch 10/60\n",
      "10/10 [==============================] - 0s 6ms/step - loss: 0.0084 - val_loss: 0.0069\n",
      "Epoch 11/60\n",
      "10/10 [==============================] - 0s 6ms/step - loss: 0.0078 - val_loss: 0.0064\n",
      "Epoch 12/60\n",
      "10/10 [==============================] - 0s 7ms/step - loss: 0.0075 - val_loss: 0.0059\n",
      "Epoch 13/60\n",
      "10/10 [==============================] - 0s 5ms/step - loss: 0.0072 - val_loss: 0.0057\n",
      "Epoch 14/60\n",
      "10/10 [==============================] - 0s 5ms/step - loss: 0.0070 - val_loss: 0.0055\n",
      "Epoch 15/60\n",
      "10/10 [==============================] - 0s 6ms/step - loss: 0.0069 - val_loss: 0.0054\n",
      "Epoch 16/60\n",
      "10/10 [==============================] - 0s 6ms/step - loss: 0.0068 - val_loss: 0.0053\n",
      "Epoch 17/60\n",
      "10/10 [==============================] - 0s 5ms/step - loss: 0.0067 - val_loss: 0.0052\n",
      "Epoch 18/60\n",
      "10/10 [==============================] - 0s 5ms/step - loss: 0.0067 - val_loss: 0.0052\n",
      "Epoch 19/60\n",
      "10/10 [==============================] - 0s 5ms/step - loss: 0.0066 - val_loss: 0.0051\n",
      "Epoch 20/60\n",
      "10/10 [==============================] - 0s 5ms/step - loss: 0.0066 - val_loss: 0.0051\n",
      "Epoch 21/60\n",
      "10/10 [==============================] - 0s 6ms/step - loss: 0.0065 - val_loss: 0.0050\n",
      "Epoch 22/60\n",
      "10/10 [==============================] - 0s 6ms/step - loss: 0.0065 - val_loss: 0.0050\n",
      "Epoch 23/60\n",
      "10/10 [==============================] - 0s 5ms/step - loss: 0.0065 - val_loss: 0.0049\n",
      "Epoch 24/60\n",
      "10/10 [==============================] - 0s 5ms/step - loss: 0.0064 - val_loss: 0.0049\n",
      "Epoch 25/60\n",
      "10/10 [==============================] - 0s 6ms/step - loss: 0.0063 - val_loss: 0.0048\n",
      "Epoch 26/60\n",
      "10/10 [==============================] - 0s 5ms/step - loss: 0.0063 - val_loss: 0.0047\n",
      "Epoch 27/60\n",
      "10/10 [==============================] - 0s 5ms/step - loss: 0.0063 - val_loss: 0.0047\n",
      "Epoch 28/60\n",
      "10/10 [==============================] - 0s 6ms/step - loss: 0.0062 - val_loss: 0.0047\n",
      "Epoch 29/60\n",
      "10/10 [==============================] - 0s 6ms/step - loss: 0.0062 - val_loss: 0.0046\n",
      "Epoch 30/60\n",
      "10/10 [==============================] - 0s 5ms/step - loss: 0.0061 - val_loss: 0.0045\n",
      "Epoch 31/60\n",
      "10/10 [==============================] - 0s 6ms/step - loss: 0.0061 - val_loss: 0.0045\n",
      "Epoch 32/60\n",
      "10/10 [==============================] - 0s 6ms/step - loss: 0.0060 - val_loss: 0.0044\n",
      "Epoch 33/60\n",
      "10/10 [==============================] - 0s 5ms/step - loss: 0.0060 - val_loss: 0.0044\n",
      "Epoch 34/60\n",
      "10/10 [==============================] - 0s 6ms/step - loss: 0.0060 - val_loss: 0.0043\n",
      "Epoch 35/60\n",
      "10/10 [==============================] - 0s 6ms/step - loss: 0.0059 - val_loss: 0.0043\n",
      "Epoch 36/60\n",
      "10/10 [==============================] - 0s 5ms/step - loss: 0.0059 - val_loss: 0.0043\n",
      "Epoch 37/60\n",
      "10/10 [==============================] - 0s 5ms/step - loss: 0.0058 - val_loss: 0.0042\n",
      "Epoch 38/60\n",
      "10/10 [==============================] - 0s 5ms/step - loss: 0.0058 - val_loss: 0.0041\n",
      "Epoch 39/60\n",
      "10/10 [==============================] - 0s 5ms/step - loss: 0.0058 - val_loss: 0.0041\n",
      "Epoch 40/60\n",
      "10/10 [==============================] - 0s 6ms/step - loss: 0.0057 - val_loss: 0.0041\n",
      "Epoch 41/60\n",
      "10/10 [==============================] - 0s 5ms/step - loss: 0.0057 - val_loss: 0.0040\n",
      "Epoch 42/60\n",
      "10/10 [==============================] - 0s 5ms/step - loss: 0.0057 - val_loss: 0.0039\n",
      "Epoch 43/60\n",
      "10/10 [==============================] - 0s 5ms/step - loss: 0.0056 - val_loss: 0.0039\n",
      "Epoch 44/60\n",
      "10/10 [==============================] - 0s 5ms/step - loss: 0.0056 - val_loss: 0.0039\n",
      "Epoch 45/60\n",
      "10/10 [==============================] - 0s 5ms/step - loss: 0.0055 - val_loss: 0.0038\n",
      "Epoch 46/60\n",
      "10/10 [==============================] - 0s 6ms/step - loss: 0.0055 - val_loss: 0.0038\n",
      "Epoch 47/60\n",
      "10/10 [==============================] - 0s 6ms/step - loss: 0.0055 - val_loss: 0.0038\n",
      "Epoch 48/60\n",
      "10/10 [==============================] - 0s 6ms/step - loss: 0.0054 - val_loss: 0.0037\n",
      "Epoch 49/60\n",
      "10/10 [==============================] - 0s 6ms/step - loss: 0.0054 - val_loss: 0.0037\n",
      "Epoch 50/60\n",
      "10/10 [==============================] - 0s 6ms/step - loss: 0.0053 - val_loss: 0.0036\n",
      "Epoch 51/60\n",
      "10/10 [==============================] - 0s 7ms/step - loss: 0.0053 - val_loss: 0.0036\n",
      "Epoch 52/60\n",
      "10/10 [==============================] - 0s 13ms/step - loss: 0.0053 - val_loss: 0.0036\n",
      "Epoch 53/60\n",
      "10/10 [==============================] - 0s 8ms/step - loss: 0.0053 - val_loss: 0.0036\n",
      "Epoch 54/60\n",
      "10/10 [==============================] - 0s 13ms/step - loss: 0.0052 - val_loss: 0.0035\n",
      "Epoch 55/60\n",
      "10/10 [==============================] - 0s 14ms/step - loss: 0.0052 - val_loss: 0.0035\n",
      "Epoch 56/60\n",
      "10/10 [==============================] - 0s 11ms/step - loss: 0.0052 - val_loss: 0.0035\n",
      "Epoch 57/60\n",
      "10/10 [==============================] - 0s 9ms/step - loss: 0.0051 - val_loss: 0.0035\n",
      "Epoch 58/60\n",
      "10/10 [==============================] - 0s 13ms/step - loss: 0.0051 - val_loss: 0.0034\n",
      "Epoch 59/60\n",
      "10/10 [==============================] - 0s 9ms/step - loss: 0.0051 - val_loss: 0.0034\n",
      "Epoch 60/60\n",
      "10/10 [==============================] - 0s 5ms/step - loss: 0.0050 - val_loss: 0.0034\n"
     ]
    }
   ],
   "source": [
    "history=model.fit(x_train,y_train,epochs=60,validation_split=.2)"
   ]
  },
  {
   "cell_type": "code",
   "execution_count": 12,
   "id": "df4d0e47",
   "metadata": {
    "execution": {
     "iopub.execute_input": "2022-07-21T14:28:37.238309Z",
     "iopub.status.busy": "2022-07-21T14:28:37.237929Z",
     "iopub.status.idle": "2022-07-21T14:28:37.396905Z",
     "shell.execute_reply": "2022-07-21T14:28:37.395993Z"
    },
    "papermill": {
     "duration": 0.177235,
     "end_time": "2022-07-21T14:28:37.399517",
     "exception": false,
     "start_time": "2022-07-21T14:28:37.222282",
     "status": "completed"
    },
    "tags": []
   },
   "outputs": [],
   "source": [
    "y_pred=model.predict(x_test)"
   ]
  },
  {
   "cell_type": "code",
   "execution_count": 13,
   "id": "97f585cf",
   "metadata": {
    "execution": {
     "iopub.execute_input": "2022-07-21T14:28:37.430529Z",
     "iopub.status.busy": "2022-07-21T14:28:37.429224Z",
     "iopub.status.idle": "2022-07-21T14:28:37.438232Z",
     "shell.execute_reply": "2022-07-21T14:28:37.437039Z"
    },
    "papermill": {
     "duration": 0.027114,
     "end_time": "2022-07-21T14:28:37.440695",
     "exception": false,
     "start_time": "2022-07-21T14:28:37.413581",
     "status": "completed"
    },
    "tags": []
   },
   "outputs": [
    {
     "data": {
      "text/plain": [
       "0.8193447987240239"
      ]
     },
     "execution_count": 13,
     "metadata": {},
     "output_type": "execute_result"
    }
   ],
   "source": [
    "from sklearn.metrics import r2_score\n",
    "r2_score(y_test,y_pred)"
   ]
  },
  {
   "cell_type": "code",
   "execution_count": 14,
   "id": "05dbae0b",
   "metadata": {
    "execution": {
     "iopub.execute_input": "2022-07-21T14:28:37.471552Z",
     "iopub.status.busy": "2022-07-21T14:28:37.470522Z",
     "iopub.status.idle": "2022-07-21T14:28:37.694743Z",
     "shell.execute_reply": "2022-07-21T14:28:37.693590Z"
    },
    "papermill": {
     "duration": 0.242805,
     "end_time": "2022-07-21T14:28:37.697497",
     "exception": false,
     "start_time": "2022-07-21T14:28:37.454692",
     "status": "completed"
    },
    "tags": []
   },
   "outputs": [
    {
     "data": {
      "text/plain": [
       "[<matplotlib.lines.Line2D at 0x7fba9778ac50>]"
      ]
     },
     "execution_count": 14,
     "metadata": {},
     "output_type": "execute_result"
    },
    {
     "data": {
      "image/png": "[encoded data removed]",
      "text/plain": [
       "<Figure size 432x288 with 1 Axes>"
      ]
     },
     "metadata": {
      "needs_background": "light"
     },
     "output_type": "display_data"
    }
   ],
   "source": [
    "import matplotlib.pyplot as plt\n",
    "plt.plot(history.history['loss'])\n",
    "plt.plot(history.history['val_loss'])"
   ]
  },
  {
   "cell_type": "code",
   "execution_count": null,
   "id": "22bcb800",
   "metadata": {
    "papermill": {
     "duration": 0.014088,
     "end_time": "2022-07-21T14:28:37.725995",
     "exception": false,
     "start_time": "2022-07-21T14:28:37.711907",
     "status": "completed"
    },
    "tags": []
   },
   "outputs": [],
   "source": []
  }
 ],
 "metadata": {
  "kernelspec": {
   "display_name": "Python 3",
   "language": "python",
   "name": "python3"
  },
  "language_info": {
   "codemirror_mode": {
    "name": "ipython",
    "version": 3
   },
   "file_extension": ".py",
   "mimetype": "text/x-python",
   "name": "python",
   "nbconvert_exporter": "python",
   "pygments_lexer": "ipython3",
   "version": "3.7.12"
  },
  "papermill": {
   "default_parameters": {},
   "duration": 29.731546,
   "end_time": "2022-07-21T14:28:40.362392",
   "environment_variables": {},
   "exception": null,
   "input_path": "__notebook__.ipynb",
   "output_path": "__notebook__.ipynb",
   "parameters": {},
   "start_time": "2022-07-21T14:28:10.630846",
   "version": "2.3.4"
  }
 },
 "nbformat": 4,
 "nbformat_minor": 5
}
